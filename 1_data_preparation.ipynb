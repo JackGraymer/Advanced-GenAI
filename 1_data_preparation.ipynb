{
  "cells": [
    {
      "cell_type": "markdown",
      "metadata": {
        "id": "view-in-github",
        "colab_type": "text"
      },
      "source": [
        "<a href=\"https://colab.research.google.com/github/JackGraymer/Advanced-GenAI/blob/main/1_data_preparation.ipynb\" target=\"_parent\"><img src=\"https://colab.research.google.com/assets/colab-badge.svg\" alt=\"Open In Colab\"/></a>"
      ]
    },
    {
      "cell_type": "markdown",
      "id": "def7af22",
      "metadata": {
        "id": "def7af22"
      },
      "source": [
        "# Advanced Generative Artificial Intelligence\n",
        "**Project - Designing a RAG-Based Q&A System for News Retrieval**\n",
        "\n",
        "**Authors:** Vsevolod Mironov, Pascal Küng, Alvaro Cervan (Group 5)\n"
      ]
    },
    {
      "cell_type": "markdown",
      "source": [
        "# Step 1 - Data preparation\n",
        "\n",
        "**Contribution:** ....\n",
        "\n",
        "**Goal of this step:** ...."
      ],
      "metadata": {
        "id": "6PwMu1LYwuKN"
      },
      "id": "6PwMu1LYwuKN"
    },
    {
      "cell_type": "markdown",
      "source": [
        "## 1. Setup of the environment"
      ],
      "metadata": {
        "id": "m6Wz1IFixGYf"
      },
      "id": "m6Wz1IFixGYf"
    },
    {
      "cell_type": "markdown",
      "source": [
        "Below the necessary libraries are installed and loaded into the environment."
      ],
      "metadata": {
        "id": "s5Hs0cyezAsU"
      },
      "id": "s5Hs0cyezAsU"
    },
    {
      "cell_type": "code",
      "source": [
        "!pip install -q beautifulsoup4==4.13.4\n",
        "!pip install -q docling==2.31.0"
      ],
      "metadata": {
        "id": "ndWv0kaFxtGy"
      },
      "id": "ndWv0kaFxtGy",
      "execution_count": 6,
      "outputs": []
    },
    {
      "cell_type": "code",
      "source": [
        "import os\n",
        "import numpy as np\n",
        "import pandas as pd\n",
        "from bs4 import BeautifulSoup, Comment\n",
        "import docling\n",
        "import matplotlib.pyplot as plt"
      ],
      "metadata": {
        "id": "WzYPTuTAwt1B"
      },
      "id": "WzYPTuTAwt1B",
      "execution_count": 16,
      "outputs": []
    },
    {
      "cell_type": "markdown",
      "source": [
        "Below we mount a shared Google Drive folder as a data storage and define the base path of the folder that will be used in the runtime."
      ],
      "metadata": {
        "id": "42G89w-nzGxB"
      },
      "id": "42G89w-nzGxB"
    },
    {
      "cell_type": "code",
      "source": [
        "from google.colab import drive\n",
        "drive.mount('/content/drive')"
      ],
      "metadata": {
        "id": "_Qsc7aoTzPmG",
        "outputId": "9d46a341-e788-4666-b971-3b4fc3c799e9",
        "colab": {
          "base_uri": "https://localhost:8080/"
        }
      },
      "id": "_Qsc7aoTzPmG",
      "execution_count": 10,
      "outputs": [
        {
          "output_type": "stream",
          "name": "stdout",
          "text": [
            "Mounted at /content/drive\n"
          ]
        }
      ]
    },
    {
      "cell_type": "code",
      "source": [
        "base_folder = '/content/drive/MyDrive/AdvGenAI'"
      ],
      "metadata": {
        "id": "2HLrG6dV0Xer"
      },
      "id": "2HLrG6dV0Xer",
      "execution_count": 11,
      "outputs": []
    },
    {
      "cell_type": "markdown",
      "source": [
        "## 2. Loading the raw data"
      ],
      "metadata": {
        "id": "rho9pmTF0KVQ"
      },
      "id": "rho9pmTF0KVQ"
    },
    {
      "cell_type": "markdown",
      "source": [
        "We go through the subdirectories inside the data-folder. Inside those folders the individual html-files will be read and the content will be saved together with the information of the file-name and the path of the file (to store in which subfolder it was located)."
      ],
      "metadata": {
        "id": "6RXR7U5P1gSc"
      },
      "id": "6RXR7U5P1gSc"
    },
    {
      "cell_type": "code",
      "source": [
        "# Definition of data folder\n",
        "data_folder = os.path.join(base_folder, 'data')"
      ],
      "metadata": {
        "id": "UYlAyNfZ0Uha"
      },
      "id": "UYlAyNfZ0Uha",
      "execution_count": 12,
      "outputs": []
    },
    {
      "cell_type": "code",
      "source": [
        "# List to hold the dictionaries\n",
        "data = []\n",
        "\n",
        "# Walk through all directories and subdirectories\n",
        "for root, dirs, files in os.walk(data_folder):\n",
        "    for file in files:\n",
        "        if file.endswith('.html'):\n",
        "            file_path = os.path.join(root, file)\n",
        "\n",
        "            # Read the content of the HTML file\n",
        "            with open(file_path, 'r', encoding='utf-8') as f:\n",
        "                content = f.read()\n",
        "\n",
        "            # Add a dictionary to the list\n",
        "            data.append({\n",
        "                'folder_path': root,\n",
        "                'file_name': file,\n",
        "                'full_path': file_path,\n",
        "                'html_content': content\n",
        "            })\n",
        "\n",
        "# Convert to DataFrame\n",
        "df = pd.DataFrame(data)\n",
        "\n",
        "# Optionally save DataFrame, e.g. to CSV or pickle for later use\n",
        "# df.to_csv('html_files_content.csv', index=False)\n",
        "# df.to_pickle('html_files_content.pkl')\n",
        "\n",
        "# Show first rows to verify\n",
        "print(df.head())"
      ],
      "metadata": {
        "id": "mFdLmMrj0PRy"
      },
      "id": "mFdLmMrj0PRy",
      "execution_count": null,
      "outputs": []
    },
    {
      "cell_type": "code",
      "source": [
        "df.head()"
      ],
      "metadata": {
        "id": "d4XOtgzy8sFz",
        "outputId": "b4042a31-52be-478e-d866-63d61221ace3",
        "colab": {
          "base_uri": "https://localhost:8080/",
          "height": 399
        }
      },
      "id": "d4XOtgzy8sFz",
      "execution_count": 18,
      "outputs": [
        {
          "output_type": "execute_result",
          "data": {
            "text/plain": [
              "                                         folder_path  \\\n",
              "0  /content/drive/MyDrive/AdvGenAI/data/de_intern...   \n",
              "1  /content/drive/MyDrive/AdvGenAI/data/de_intern...   \n",
              "2  /content/drive/MyDrive/AdvGenAI/data/de_intern...   \n",
              "3  /content/drive/MyDrive/AdvGenAI/data/de_intern...   \n",
              "4  /content/drive/MyDrive/AdvGenAI/data/de_intern...   \n",
              "\n",
              "                                          file_name  \\\n",
              "0                               der-r-pionier1.html   \n",
              "1  web-of-science-alles-neu-macht-der--januar-.html   \n",
              "2    swiss-life-sciences-2014-experten-gesucht.html   \n",
              "3                 mendeley-literaturverwaltung.html   \n",
              "4                            mehr-orientierung.html   \n",
              "\n",
              "                                           full_path  \\\n",
              "0  /content/drive/MyDrive/AdvGenAI/data/de_intern...   \n",
              "1  /content/drive/MyDrive/AdvGenAI/data/de_intern...   \n",
              "2  /content/drive/MyDrive/AdvGenAI/data/de_intern...   \n",
              "3  /content/drive/MyDrive/AdvGenAI/data/de_intern...   \n",
              "4  /content/drive/MyDrive/AdvGenAI/data/de_intern...   \n",
              "\n",
              "                                        html_content  \n",
              "0  <div class=\"text-image cq-dd-image\">\\n<p>Währe...  \n",
              "1  <div class=\"text-image cq-dd-image\">\\n<p><a cl...  \n",
              "2  <div class=\"text-image cq-dd-image\">\\n<h2>Staf...  \n",
              "3  <div class=\"text-image cq-dd-image\">\\n<p><a cl...  \n",
              "4  <div class=\"text-image cq-dd-image\">\\n<p>Das S...  "
            ],
            "text/html": [
              "\n",
              "  <div id=\"df-132eb5b3-d93c-4be3-92f9-a3ce660b1d58\" class=\"colab-df-container\">\n",
              "    <div>\n",
              "<style scoped>\n",
              "    .dataframe tbody tr th:only-of-type {\n",
              "        vertical-align: middle;\n",
              "    }\n",
              "\n",
              "    .dataframe tbody tr th {\n",
              "        vertical-align: top;\n",
              "    }\n",
              "\n",
              "    .dataframe thead th {\n",
              "        text-align: right;\n",
              "    }\n",
              "</style>\n",
              "<table border=\"1\" class=\"dataframe\">\n",
              "  <thead>\n",
              "    <tr style=\"text-align: right;\">\n",
              "      <th></th>\n",
              "      <th>folder_path</th>\n",
              "      <th>file_name</th>\n",
              "      <th>full_path</th>\n",
              "      <th>html_content</th>\n",
              "    </tr>\n",
              "  </thead>\n",
              "  <tbody>\n",
              "    <tr>\n",
              "      <th>0</th>\n",
              "      <td>/content/drive/MyDrive/AdvGenAI/data/de_intern...</td>\n",
              "      <td>der-r-pionier1.html</td>\n",
              "      <td>/content/drive/MyDrive/AdvGenAI/data/de_intern...</td>\n",
              "      <td>&lt;div class=\"text-image cq-dd-image\"&gt;\\n&lt;p&gt;Währe...</td>\n",
              "    </tr>\n",
              "    <tr>\n",
              "      <th>1</th>\n",
              "      <td>/content/drive/MyDrive/AdvGenAI/data/de_intern...</td>\n",
              "      <td>web-of-science-alles-neu-macht-der--januar-.html</td>\n",
              "      <td>/content/drive/MyDrive/AdvGenAI/data/de_intern...</td>\n",
              "      <td>&lt;div class=\"text-image cq-dd-image\"&gt;\\n&lt;p&gt;&lt;a cl...</td>\n",
              "    </tr>\n",
              "    <tr>\n",
              "      <th>2</th>\n",
              "      <td>/content/drive/MyDrive/AdvGenAI/data/de_intern...</td>\n",
              "      <td>swiss-life-sciences-2014-experten-gesucht.html</td>\n",
              "      <td>/content/drive/MyDrive/AdvGenAI/data/de_intern...</td>\n",
              "      <td>&lt;div class=\"text-image cq-dd-image\"&gt;\\n&lt;h2&gt;Staf...</td>\n",
              "    </tr>\n",
              "    <tr>\n",
              "      <th>3</th>\n",
              "      <td>/content/drive/MyDrive/AdvGenAI/data/de_intern...</td>\n",
              "      <td>mendeley-literaturverwaltung.html</td>\n",
              "      <td>/content/drive/MyDrive/AdvGenAI/data/de_intern...</td>\n",
              "      <td>&lt;div class=\"text-image cq-dd-image\"&gt;\\n&lt;p&gt;&lt;a cl...</td>\n",
              "    </tr>\n",
              "    <tr>\n",
              "      <th>4</th>\n",
              "      <td>/content/drive/MyDrive/AdvGenAI/data/de_intern...</td>\n",
              "      <td>mehr-orientierung.html</td>\n",
              "      <td>/content/drive/MyDrive/AdvGenAI/data/de_intern...</td>\n",
              "      <td>&lt;div class=\"text-image cq-dd-image\"&gt;\\n&lt;p&gt;Das S...</td>\n",
              "    </tr>\n",
              "  </tbody>\n",
              "</table>\n",
              "</div>\n",
              "    <div class=\"colab-df-buttons\">\n",
              "\n",
              "  <div class=\"colab-df-container\">\n",
              "    <button class=\"colab-df-convert\" onclick=\"convertToInteractive('df-132eb5b3-d93c-4be3-92f9-a3ce660b1d58')\"\n",
              "            title=\"Convert this dataframe to an interactive table.\"\n",
              "            style=\"display:none;\">\n",
              "\n",
              "  <svg xmlns=\"http://www.w3.org/2000/svg\" height=\"24px\" viewBox=\"0 -960 960 960\">\n",
              "    <path d=\"M120-120v-720h720v720H120Zm60-500h600v-160H180v160Zm220 220h160v-160H400v160Zm0 220h160v-160H400v160ZM180-400h160v-160H180v160Zm440 0h160v-160H620v160ZM180-180h160v-160H180v160Zm440 0h160v-160H620v160Z\"/>\n",
              "  </svg>\n",
              "    </button>\n",
              "\n",
              "  <style>\n",
              "    .colab-df-container {\n",
              "      display:flex;\n",
              "      gap: 12px;\n",
              "    }\n",
              "\n",
              "    .colab-df-convert {\n",
              "      background-color: #E8F0FE;\n",
              "      border: none;\n",
              "      border-radius: 50%;\n",
              "      cursor: pointer;\n",
              "      display: none;\n",
              "      fill: #1967D2;\n",
              "      height: 32px;\n",
              "      padding: 0 0 0 0;\n",
              "      width: 32px;\n",
              "    }\n",
              "\n",
              "    .colab-df-convert:hover {\n",
              "      background-color: #E2EBFA;\n",
              "      box-shadow: 0px 1px 2px rgba(60, 64, 67, 0.3), 0px 1px 3px 1px rgba(60, 64, 67, 0.15);\n",
              "      fill: #174EA6;\n",
              "    }\n",
              "\n",
              "    .colab-df-buttons div {\n",
              "      margin-bottom: 4px;\n",
              "    }\n",
              "\n",
              "    [theme=dark] .colab-df-convert {\n",
              "      background-color: #3B4455;\n",
              "      fill: #D2E3FC;\n",
              "    }\n",
              "\n",
              "    [theme=dark] .colab-df-convert:hover {\n",
              "      background-color: #434B5C;\n",
              "      box-shadow: 0px 1px 3px 1px rgba(0, 0, 0, 0.15);\n",
              "      filter: drop-shadow(0px 1px 2px rgba(0, 0, 0, 0.3));\n",
              "      fill: #FFFFFF;\n",
              "    }\n",
              "  </style>\n",
              "\n",
              "    <script>\n",
              "      const buttonEl =\n",
              "        document.querySelector('#df-132eb5b3-d93c-4be3-92f9-a3ce660b1d58 button.colab-df-convert');\n",
              "      buttonEl.style.display =\n",
              "        google.colab.kernel.accessAllowed ? 'block' : 'none';\n",
              "\n",
              "      async function convertToInteractive(key) {\n",
              "        const element = document.querySelector('#df-132eb5b3-d93c-4be3-92f9-a3ce660b1d58');\n",
              "        const dataTable =\n",
              "          await google.colab.kernel.invokeFunction('convertToInteractive',\n",
              "                                                    [key], {});\n",
              "        if (!dataTable) return;\n",
              "\n",
              "        const docLinkHtml = 'Like what you see? Visit the ' +\n",
              "          '<a target=\"_blank\" href=https://colab.research.google.com/notebooks/data_table.ipynb>data table notebook</a>'\n",
              "          + ' to learn more about interactive tables.';\n",
              "        element.innerHTML = '';\n",
              "        dataTable['output_type'] = 'display_data';\n",
              "        await google.colab.output.renderOutput(dataTable, element);\n",
              "        const docLink = document.createElement('div');\n",
              "        docLink.innerHTML = docLinkHtml;\n",
              "        element.appendChild(docLink);\n",
              "      }\n",
              "    </script>\n",
              "  </div>\n",
              "\n",
              "\n",
              "    <div id=\"df-8b79383e-c5b7-4c00-9f04-2756da3222ca\">\n",
              "      <button class=\"colab-df-quickchart\" onclick=\"quickchart('df-8b79383e-c5b7-4c00-9f04-2756da3222ca')\"\n",
              "                title=\"Suggest charts\"\n",
              "                style=\"display:none;\">\n",
              "\n",
              "<svg xmlns=\"http://www.w3.org/2000/svg\" height=\"24px\"viewBox=\"0 0 24 24\"\n",
              "     width=\"24px\">\n",
              "    <g>\n",
              "        <path d=\"M19 3H5c-1.1 0-2 .9-2 2v14c0 1.1.9 2 2 2h14c1.1 0 2-.9 2-2V5c0-1.1-.9-2-2-2zM9 17H7v-7h2v7zm4 0h-2V7h2v10zm4 0h-2v-4h2v4z\"/>\n",
              "    </g>\n",
              "</svg>\n",
              "      </button>\n",
              "\n",
              "<style>\n",
              "  .colab-df-quickchart {\n",
              "      --bg-color: #E8F0FE;\n",
              "      --fill-color: #1967D2;\n",
              "      --hover-bg-color: #E2EBFA;\n",
              "      --hover-fill-color: #174EA6;\n",
              "      --disabled-fill-color: #AAA;\n",
              "      --disabled-bg-color: #DDD;\n",
              "  }\n",
              "\n",
              "  [theme=dark] .colab-df-quickchart {\n",
              "      --bg-color: #3B4455;\n",
              "      --fill-color: #D2E3FC;\n",
              "      --hover-bg-color: #434B5C;\n",
              "      --hover-fill-color: #FFFFFF;\n",
              "      --disabled-bg-color: #3B4455;\n",
              "      --disabled-fill-color: #666;\n",
              "  }\n",
              "\n",
              "  .colab-df-quickchart {\n",
              "    background-color: var(--bg-color);\n",
              "    border: none;\n",
              "    border-radius: 50%;\n",
              "    cursor: pointer;\n",
              "    display: none;\n",
              "    fill: var(--fill-color);\n",
              "    height: 32px;\n",
              "    padding: 0;\n",
              "    width: 32px;\n",
              "  }\n",
              "\n",
              "  .colab-df-quickchart:hover {\n",
              "    background-color: var(--hover-bg-color);\n",
              "    box-shadow: 0 1px 2px rgba(60, 64, 67, 0.3), 0 1px 3px 1px rgba(60, 64, 67, 0.15);\n",
              "    fill: var(--button-hover-fill-color);\n",
              "  }\n",
              "\n",
              "  .colab-df-quickchart-complete:disabled,\n",
              "  .colab-df-quickchart-complete:disabled:hover {\n",
              "    background-color: var(--disabled-bg-color);\n",
              "    fill: var(--disabled-fill-color);\n",
              "    box-shadow: none;\n",
              "  }\n",
              "\n",
              "  .colab-df-spinner {\n",
              "    border: 2px solid var(--fill-color);\n",
              "    border-color: transparent;\n",
              "    border-bottom-color: var(--fill-color);\n",
              "    animation:\n",
              "      spin 1s steps(1) infinite;\n",
              "  }\n",
              "\n",
              "  @keyframes spin {\n",
              "    0% {\n",
              "      border-color: transparent;\n",
              "      border-bottom-color: var(--fill-color);\n",
              "      border-left-color: var(--fill-color);\n",
              "    }\n",
              "    20% {\n",
              "      border-color: transparent;\n",
              "      border-left-color: var(--fill-color);\n",
              "      border-top-color: var(--fill-color);\n",
              "    }\n",
              "    30% {\n",
              "      border-color: transparent;\n",
              "      border-left-color: var(--fill-color);\n",
              "      border-top-color: var(--fill-color);\n",
              "      border-right-color: var(--fill-color);\n",
              "    }\n",
              "    40% {\n",
              "      border-color: transparent;\n",
              "      border-right-color: var(--fill-color);\n",
              "      border-top-color: var(--fill-color);\n",
              "    }\n",
              "    60% {\n",
              "      border-color: transparent;\n",
              "      border-right-color: var(--fill-color);\n",
              "    }\n",
              "    80% {\n",
              "      border-color: transparent;\n",
              "      border-right-color: var(--fill-color);\n",
              "      border-bottom-color: var(--fill-color);\n",
              "    }\n",
              "    90% {\n",
              "      border-color: transparent;\n",
              "      border-bottom-color: var(--fill-color);\n",
              "    }\n",
              "  }\n",
              "</style>\n",
              "\n",
              "      <script>\n",
              "        async function quickchart(key) {\n",
              "          const quickchartButtonEl =\n",
              "            document.querySelector('#' + key + ' button');\n",
              "          quickchartButtonEl.disabled = true;  // To prevent multiple clicks.\n",
              "          quickchartButtonEl.classList.add('colab-df-spinner');\n",
              "          try {\n",
              "            const charts = await google.colab.kernel.invokeFunction(\n",
              "                'suggestCharts', [key], {});\n",
              "          } catch (error) {\n",
              "            console.error('Error during call to suggestCharts:', error);\n",
              "          }\n",
              "          quickchartButtonEl.classList.remove('colab-df-spinner');\n",
              "          quickchartButtonEl.classList.add('colab-df-quickchart-complete');\n",
              "        }\n",
              "        (() => {\n",
              "          let quickchartButtonEl =\n",
              "            document.querySelector('#df-8b79383e-c5b7-4c00-9f04-2756da3222ca button');\n",
              "          quickchartButtonEl.style.display =\n",
              "            google.colab.kernel.accessAllowed ? 'block' : 'none';\n",
              "        })();\n",
              "      </script>\n",
              "    </div>\n",
              "\n",
              "    </div>\n",
              "  </div>\n"
            ],
            "application/vnd.google.colaboratory.intrinsic+json": {
              "type": "dataframe",
              "variable_name": "df",
              "summary": "{\n  \"name\": \"df\",\n  \"rows\": 4390,\n  \"fields\": [\n    {\n      \"column\": \"folder_path\",\n      \"properties\": {\n        \"dtype\": \"category\",\n        \"num_unique_values\": 489,\n        \"samples\": [\n          \"/content/drive/MyDrive/AdvGenAI/data/en_news_events/2021/10\",\n          \"/content/drive/MyDrive/AdvGenAI/data/de_internal/2021/07\",\n          \"/content/drive/MyDrive/AdvGenAI/data/en_news_events/2019/01\"\n        ],\n        \"semantic_type\": \"\",\n        \"description\": \"\"\n      }\n    },\n    {\n      \"column\": \"file_name\",\n      \"properties\": {\n        \"dtype\": \"string\",\n        \"num_unique_values\": 3939,\n        \"samples\": [\n          \"the-complex-interplay-behind-great-heat.html\",\n          \"game-apps-for-creative-kids.html\",\n          \"cogito-preis-2014-fuer-seismologen-donat-faeh1.html\"\n        ],\n        \"semantic_type\": \"\",\n        \"description\": \"\"\n      }\n    },\n    {\n      \"column\": \"full_path\",\n      \"properties\": {\n        \"dtype\": \"string\",\n        \"num_unique_values\": 4390,\n        \"samples\": [\n          \"/content/drive/MyDrive/AdvGenAI/data/en_news_events/2016/06/net-worker-with-the-drive-to-optimise.html\",\n          \"/content/drive/MyDrive/AdvGenAI/data/de_news_events/2022/10/blog-klimaschutz-bringt-wirtschaftlichen-Gewinn.html\",\n          \"/content/drive/MyDrive/AdvGenAI/data/en_internal/2022/04/should-the-application-process-be-anonymised.html\"\n        ],\n        \"semantic_type\": \"\",\n        \"description\": \"\"\n      }\n    },\n    {\n      \"column\": \"html_content\",\n      \"properties\": {\n        \"dtype\": \"string\",\n        \"num_unique_values\": 4334,\n        \"samples\": [\n          \"<div class=\\\"text-image cq-dd-image\\\">\\n<p>A maximum of EUR 2,000 for articles, book chapters and conference papers, and EUR 6,000 for monographs can be applied for to OpenAIRE subject to the following conditions:</p>\\n<ul>\\n<li>The financing is applied for no later than 26 months after the end of the project.</li>\\n<li>The publication costs are incurred after the completion of the project.</li>\\n</ul>\\n<p>We especially recommend this funding option for open-access books and open-access journals with which ETH-Bibliothek does not have an <a class=\\\"eth-link\\\" href=\\\"http://www.library.ethz.ch/en/ms/Open-Access-at-ETH-Zurich/Publishing-in-open-access-journals/Publishing-in-open-access-journals-Funding\\\">agreement on the funding of publication fees</a>, such as Nature CommunicationsorScientific Reports.</p>\\n<p>ETH-Bibliothek's <script type=\\\"text/javascript\\\">eval(unescape('%64%6f%63%75%6d%65%6e%74%2e%77%72%69%74%65%28%27%3c%61%20%68%72%65%66%3d%5c%22%6d%61%69%6c%74%6f%3a%65%2d%70%75%62%6c%69%73%68%69%6e%67%40%6c%69%62%72%61%72%79%2e%65%74%68%7a%2e%63%68%5c%22%20%74%69%74%6c%65%3d%5c%22%45%6d%61%69%6c%5c%22%20%63%6c%61%73%73%3d%5c%22%65%74%68%2d%6c%69%6e%6b%5c%22%3e%45%2d%50%75%62%6c%69%73%68%69%6e%67%20%4f%66%66%69%63%65%3c%5c%2f%61%3e%27%29'))</script> gladly supports you in the application process.</p>\\n<p><a class=\\\"eth-link\\\" href=\\\"https://postgrantoapilot.openaire.eu/#home\\\"><span class=\\\"eth-link__label\\\">external page</span>FP7 post-grant Open Access Pilot<span aria-hidden=\\\"true\\\" class=\\\"material-icons\\\">call_made</span></a></p>\\n</div>\\n<div class=\\\"text-image cq-dd-image\\\">\\n<h2>Subscribe to Newsletter<br/> </h2>\\n<p><a class=\\\"eth-link\\\" href=\\\"/staffnet/en/news-and-events/internal-news/newsletter.html\\\">Subscribe to the Newsletter for internal news</a></p>\\n</div>\\n<div class=\\\"text-image cq-dd-image\\\">\\n<h2>Staffnet</h2>\\n<p><a class=\\\"eth-link\\\" href=\\\"https://ethz.ch/services/en.html\\\">Info portal</a> for employees with the key information about what\\u2019s going on at ETH Zurich.</p>\\n</div>\\n\",\n          \"<div class=\\\"text-image cq-dd-image\\\">\\n<p>F\\u00fcr viele wissenschaftliche Experimente ben\\u00f6tigen die Forschenden heute eine pr\\u00e4zise Referenzfrequenz, mit der sie die Zeitmessung ihrer Ger\\u00e4te kalibrieren k\\u00f6nnen. Zu diesen Experimenten geh\\u00f6ren beispielsweise Spektroskopie-Untersuchungen, bei denen chemische Reaktionen zwischen Molek\\u00fclen in Echtzeit untersucht werden, oder physikalische Studien zu Naturkonstanten.</p>\\n<p>Schon bald k\\u00f6nnte nun die Verf\\u00fcgbarkeit einer solchen hochpr\\u00e4zisen Referenzfrequenz zur Grundausstattung von Schweizer Forschungsinstitutionen geh\\u00f6ren. Forschende der ETH Z\\u00fcrich, der Universit\\u00e4t Basel, des Eidgen\\u00f6ssischen Instituts f\\u00fcr Metrologie (Metas), der \\u00abH\\u00fcterin der Masseinheiten f\\u00fcr die Schweiz\\u00bb, sowie der Stiftung Switch, die das akademische Datennetz der Schweiz betreibt, haben in einem gemeinsamen Projekt, das vom Sinergia-Programm des Schweizerischen Nationalfonds gef\\u00f6rdert wird, zeigen k\\u00f6nnen, dass ein solches pr\\u00e4zises Referenzsignal \\u00fcber die herk\\u00f6mmliche Telekommunikations-Infrastruktur \\u00fcbermittelt werden kann.</p>\\n<p>\\u00abDie ersten Erfahrungen zeigen, dass chemische Spektroskopie-Analysen damit mit einer um einen Faktor 100 h\\u00f6heren Genauigkeit durchgef\\u00fchrt werden k\\u00f6nnen als bisher\\u00bb, berichtet Stefan Willitsch, Professor f\\u00fcr Physikalische Chemie an der Universit\\u00e4t Basel und Koordinator des Projekts. \\u00abMit dieser Genauigkeit werden die Gesetze der Natur durch spektroskopische Messungen an Molek\\u00fclen mit noch nie erreichter Genauigkeit \\u00fcberpr\\u00fcft\\u00bb, erg\\u00e4nzt Fr\\u00e9d\\u00e9ric Merkt, Professor f\\u00fcr Physikalische Chemie an der ETH Z\\u00fcrich.</p>\\n<h2><b>Kontinuierliche Korrektur</b></h2>\\n<p>Konkret wurde im Projekt ein Versuchsnetz aufgebaut, das den Sitz von Metas in Bern-Wabern mit der Universit\\u00e4t Basel und der ETH Z\\u00fcrich verbindet. Das Ausgangssignal, das \\u00fcber ein ausgekl\\u00fcgeltes Verfahren mit der Atomuhr von Metas synchronisiert wird, wird dabei \\u00fcber das Glasfasernetz von Switch nach Basel und Z\\u00fcrich \\u00fcbermittelt, wo es die Forschenden dann zum Kalibrieren ihrer Messger\\u00e4te verwenden k\\u00f6nnen.</p>\\n<p>\\u00abDamit das Signal tats\\u00e4chlich bei den Forschenden mit der gew\\u00fcnschten Pr\\u00e4zision ankommt, muss die \\u00dcbertragung laufend nachjustiert werden. Bereits kleinste L\\u00e4ngenver\\u00e4nderungen des Glasfaserkabels, etwa durch Ersch\\u00fctterungen oder Temperaturver\\u00e4nderungen, wirken sich auf die Frequenz aus\\u00bb, erkl\\u00e4rt Jacques Morel, Leiter des Labors Photonik, Zeit und Frequenz bei Metas. Deshalb wird das Signal in Basel und Z\\u00fcrich nach Bern zur\\u00fcckgespiegelt, wo das Ausgangssignal dann entsprechend korrigiert wird.</p>\\n<h2><b>Hohe Qualit\\u00e4t, tiefere Kosten</b></h2>\\n<p>\\u00abIn der Schweiz stehen wir beim Aufbau eines solchen Netzwerkes erst am Anfang\\u00bb, erl\\u00e4utert J\\u00e9r\\u00f4me Faist, der als Professor am Institut f\\u00fcr Quantenelektronik der ETH Z\\u00fcrich seine Fachkenntnisse in Lasertechnik einbrachte. \\u00abIn anderen L\\u00e4ndern wie Italien, Deutschland und Frankreich ist man diesbez\\u00fcglich bereits einen Schritt weiter.\\u00bb</p>\\n<p>In diesen L\\u00e4ndern werden die Referenzfrequenzen bisher auf zwei Arten \\u00fcbermittelt, die beide ihre spezifischen Nachteile haben: Entweder wird das Signal \\u00fcber eine spezielle Leitung verschickt; das f\\u00fchrt zwar zu einem physikalisch optimalen Resultat, ist aber kostspielig. Oder man nutzt zur \\u00dcbermittlung die bestehende Infrastruktur der Telekommunikationsanbieter. Das ist zwar wesentlich g\\u00fcnstiger, aber technisch nicht optimal. Denn das Referenzsignal f\\u00fcr die Zeitmessung wird dabei ebenfalls im sogenannten C-Band \\u00fcbermittelt, also mit einer \\u00e4hnlichen Grundfrequenz wie der Datenverkehr. Dadurch wird zum einen das Referenzsignal potenziell durch den \\u00fcbrigen Datenverkehr gest\\u00f6rt. Gleichzeitig wird ein Kanal, der normalerweise f\\u00fcr die Daten\\u00fcbermittlung genutzt wird, blockiert, was den Betrieb kompliziert.</p>\\n</div>\\n<div class=\\\"text-image cq-dd-image\\\">\\n<p>\\u00abWir haben nun einen dritten Weg entwickelt\\u00bb, erl\\u00e4utert Fabian Mauchle, Projektverantwortlicher bei Switch: \\u00abWir nutzen aus Kostengr\\u00fcnden das bereits existierende Netz von Switch, weichen aber f\\u00fcr die \\u00dcbermittlung des Referenzsignals vom physikalisch optimalen C-Band, das eben durch den Datenverkehr bereits stark belegt ist, auf das noch weitgehend freie L-Band aus, das eine abweichende Grundfrequenz hat.\\u00bb Die Resultate zeigen nun, dass auch im L-Band das Referenzsignal mit einer sehr guten Qualit\\u00e4t \\u00fcbermittelt werden kann und dass es dabei nicht durch den Datenverkehr gest\\u00f6rt wird. Dazu war es jedoch notwendig, dass Switch gewisse Modifikation an der Netzinfrastruktur vornahm.</p>\\n<h2><b>Internationale Vernetzung</b></h2>\\n<p>In einem n\\u00e4chsten Schritt geht es nun darum, das Netz weiter auszubauen und auch andere Institutionen in der Schweiz anzuschliessen, etwa das Cern in Genf, die EPFL oder die Universit\\u00e4t Neuenburg. Auch auf internationaler Ebene wird eine Vernetzung angestrebt. Ziel ist es, einen l\\u00e4nder\\u00fcbergreifenden Verbund aufzubauen, mit dem die Signale von verschiedenen Atomuhren miteinander verglichen werden k\\u00f6nnen.</p>\\n<p>Damit w\\u00fcrde auch die Realisierung einer noch pr\\u00e4ziseren Zeitmessung als SI-Einheit Sekunde erm\\u00f6glicht. Die heutigen Atomuhren, welche die einheitliche Zeitmessung weltweit sicherstellen, werden mit Satellitensignalen im Gigahertz-Bereich verglichen. Atomuhren, die mit optischen Signalen im Terahertz-Bereich aufeinander abgestimmt werden, k\\u00f6nnten die Sekunde nicht mehr \\u00abnur\\u00bb bis zu 16. Nachkommastelle genau messen, sondern sogar bis zur 18. Nachkommastelle. Doch das geht eben nur, wenn die Signale zum Vergleich dieser optischen Uhren mit Licht \\u00fcber Glasfasern \\u00fcbermittelt werden.</p>\\n<h2><b>Auch f\\u00fcr andere Disziplinen interessant</b></h2>\\n<p>Das neue Netzwerk k\\u00f6nnte \\u00fcbrigens nicht nur f\\u00fcr Chemiker und Physiker von Nutzen sein, wie Faist erg\\u00e4nzt. Auch den Erdwissenschaftlern k\\u00f6nnte es neue Einsichten erm\\u00f6glichen. Diese ben\\u00f6tigen zwar kein hochpr\\u00e4zises Zeitsignal f\\u00fcr ihre Experimente. Doch weil sich bereits kleinste St\\u00f6rungen auf die Frequenz auswirken, k\\u00f6nnte man auf diese Weise m\\u00f6glicherweise feine Ersch\\u00fctterungen im Untergrund ausfindig machen, die man mit den bisherigen Messger\\u00e4ten noch nicht entdecken kann.</p>\\n</div>\\n<div class=\\\"text-image cq-dd-image\\\">\\n<h2>Literaturhinweis</h2>\\n<p>Husmann D et.al.: SI-traceable frequency dissemination at 1572.06 nm in a stabilized fiber network with ring topology. Vol. 29, No. 16 /2 August 2021. doi: <a class=\\\"eth-link\\\" href=\\\"https://doi.org/10.1364/OE.427921\\\"><span class=\\\"eth-link__label\\\">externe Seite</span>10.1364/OE.427921<span aria-hidden=\\\"true\\\" class=\\\"material-icons\\\">call_made</span></a><br/> </p>\\n</div>\\n\",\n          \"<div class=\\\"text-image cq-dd-image\\\">\\n<p>The existing intranet will be converted into this new \\u2018Services &amp; Resources\\u2019 platform in early August. This is primarily intended for ETH staff, but will also include information for external visitors to the website.</p>\\n<p>The usual internal news, such as service information, news from the Executive Board and University Boards or announcements on work anniversaries will be found on the new platform in future. Just as before, this platform will also contain information that supports staff in their work and helps them find their way around the vast range of services provided by ETH Zurich. These include areas such as employment and work, finance and controlling, and IT services.</p>\\n<p>The design and structure of the new platform will match the main ETH website <a class=\\\"eth-link\\\" href=\\\"http://www.ethz.ch/en\\\">www.ethz.ch/en</a>. The header will appear in the same corporate blue, and the navigation between the two websites will also be simplified using additional links. \\u2018Services &amp; Resources\\u2019 will now be listed in the upper right menu on the main website. The new platform will also have its own dedicated URL at <a class=\\\"eth-link\\\" href=\\\"http://www.ethz.ch/services/en\\\">www.ethz.ch/services/en</a>.</p>\\n</div>\\n<div class=\\\"text-image cq-dd-image\\\">\\n<h2>Subscribe to Newsletter<br/> </h2>\\n<p><a class=\\\"eth-link\\\" href=\\\"/staffnet/en/news-and-events/internal-news/newsletter.html\\\">Subscribe to the Newsletter for internal news</a></p>\\n</div>\\n<div class=\\\"text-image cq-dd-image\\\">\\n<h2>Staffnet</h2>\\n<p><a class=\\\"eth-link\\\" href=\\\"https://ethz.ch/services/en.html\\\">Info portal</a> for employees with the key information about what\\u2019s going on at ETH Zurich.</p>\\n</div>\\n\"\n        ],\n        \"semantic_type\": \"\",\n        \"description\": \"\"\n      }\n    }\n  ]\n}"
            }
          },
          "metadata": {},
          "execution_count": 18
        }
      ]
    },
    {
      "cell_type": "markdown",
      "source": [
        "Below we compare the number of documents collected by the function into the Dataframe with a selection of all files in the data folder.\n",
        "\n",
        "In the check 3 files were discovered that were not part of the dataframe. After inspection it was discovered that those are `.DS_Store`file, for which it makes sense that they were not included."
      ],
      "metadata": {
        "id": "1dBquybd84P9"
      },
      "id": "1dBquybd84P9"
    },
    {
      "cell_type": "markdown",
      "source": [],
      "metadata": {
        "id": "YuW_jmYL-3mu"
      },
      "id": "YuW_jmYL-3mu"
    },
    {
      "cell_type": "code",
      "source": [
        "# Dataframe\n",
        "print(f\"Number of files in the DataFrame: {len(df)}\")"
      ],
      "metadata": {
        "id": "yf7OGnHT9Bph",
        "outputId": "ca184d76-6434-40cd-ebbd-742e3076d771",
        "colab": {
          "base_uri": "https://localhost:8080/"
        }
      },
      "id": "yf7OGnHT9Bph",
      "execution_count": 19,
      "outputs": [
        {
          "output_type": "stream",
          "name": "stdout",
          "text": [
            "Number of files in the DataFrame: 4390\n"
          ]
        }
      ]
    },
    {
      "cell_type": "code",
      "source": [
        "# Files in Data folder\n",
        "print(f\"Number of files in the data folder:\")\n",
        "!find \"$data_folder\" -type f | wc -l"
      ],
      "metadata": {
        "id": "TnA43RVY4_gi",
        "outputId": "3d5e2264-5ab5-45c4-9e1c-adf8a2989291",
        "colab": {
          "base_uri": "https://localhost:8080/"
        }
      },
      "id": "TnA43RVY4_gi",
      "execution_count": 20,
      "outputs": [
        {
          "output_type": "stream",
          "name": "stdout",
          "text": [
            "Number of files in the data folder:\n",
            "4393\n"
          ]
        }
      ]
    },
    {
      "cell_type": "code",
      "source": [
        "!find \"$data_folder\" -type f | sort > folder_files.txt\n",
        "df['full_path'].sort_values().to_csv('df_files.txt', index=False, header=False)\n",
        "!sort folder_files.txt -o folder_files.txt\n",
        "!sort df_files.txt -o df_files.txt\n",
        "!comm -23 folder_files.txt df_files.txt"
      ],
      "metadata": {
        "id": "Iu2k2QXt9tBE",
        "outputId": "ad18cb2f-b10a-4cb5-fbe8-f2b9fb0e3382",
        "colab": {
          "base_uri": "https://localhost:8080/"
        }
      },
      "id": "Iu2k2QXt9tBE",
      "execution_count": 25,
      "outputs": [
        {
          "output_type": "stream",
          "name": "stdout",
          "text": [
            "/content/drive/MyDrive/AdvGenAI/data/de_internal/2013/.DS_Store\n",
            "/content/drive/MyDrive/AdvGenAI/data/de_internal/2015/.DS_Store\n",
            "/content/drive/MyDrive/AdvGenAI/data/de_internal/2024/.DS_Store\n"
          ]
        }
      ]
    },
    {
      "cell_type": "markdown",
      "source": [
        "## 3. Parsing and cleaning the HTML files"
      ],
      "metadata": {
        "id": "nc3vH25p7c1z"
      },
      "id": "nc3vH25p7c1z"
    },
    {
      "cell_type": "markdown",
      "source": [],
      "metadata": {
        "id": "Rfd5gMqB7cvd"
      },
      "id": "Rfd5gMqB7cvd"
    },
    {
      "cell_type": "code",
      "source": [
        "def clean_html(html_content):\n",
        "    \"\"\"\n",
        "    Extracts the title and main content from HTML while removing unnecessary elements.\n",
        "\n",
        "    Args:\n",
        "        html_content (str): The HTML content to clean.\n",
        "\n",
        "    Returns:\n",
        "        tuple: (title, cleaned_content) where:\n",
        "            - title (str): The title of the HTML document\n",
        "            - cleaned_content (str): The main content of the HTML document with tags removed\n",
        "    \"\"\"\n",
        "    # Parse the HTML\n",
        "    soup = BeautifulSoup(html_content, 'html.parser')\n",
        "\n",
        "    # Extract the title\n",
        "    title = \"\"\n",
        "    if soup.title:\n",
        "        title = soup.title.get_text(strip=True)\n",
        "\n",
        "    # Create a copy of the soup for content extraction\n",
        "    content_soup = BeautifulSoup(str(soup), 'html.parser')\n",
        "\n",
        "    # Remove unwanted elements\n",
        "    for element in content_soup(['script', 'style', 'header', 'footer', 'nav', 'iframe', 'meta', 'link']):\n",
        "        element.decompose()\n",
        "\n",
        "    # Remove comments\n",
        "    for comment in content_soup.find_all(text=lambda text: isinstance(text, Comment)):\n",
        "        comment.extract()\n",
        "\n",
        "    # Get the body content or full document if no body\n",
        "    main_content = content_soup.body or content_soup\n",
        "\n",
        "    # Get clean text with spacing between elements\n",
        "    clean_text = main_content.get_text(separator=' ', strip=True)\n",
        "\n",
        "    return title, clean_text\n",
        "\n",
        "# Example usage with a pandas DataFrame:\n",
        "# df['title'], df['clean_content'] = zip(*df['html_contents'].apply(clean_html))"
      ],
      "metadata": {
        "id": "MXm0U7UA5QMh"
      },
      "id": "MXm0U7UA5QMh",
      "execution_count": null,
      "outputs": []
    }
  ],
  "metadata": {
    "language_info": {
      "name": "python"
    },
    "colab": {
      "provenance": [],
      "include_colab_link": true
    },
    "kernelspec": {
      "name": "python3",
      "display_name": "Python 3"
    }
  },
  "nbformat": 4,
  "nbformat_minor": 5
}