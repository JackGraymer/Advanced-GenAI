{
  "cells": [
    {
      "cell_type": "markdown",
      "metadata": {
        "id": "view-in-github",
        "colab_type": "text"
      },
      "source": [
        "<a href=\"https://colab.research.google.com/github/JackGraymer/Advanced-GenAI/blob/stage1-rerun/1_data_preparation.ipynb\" target=\"_parent\"><img src=\"https://colab.research.google.com/assets/colab-badge.svg\" alt=\"Open In Colab\"/></a>"
      ]
    },
    {
      "cell_type": "markdown",
      "id": "1",
      "metadata": {
        "id": "1"
      },
      "source": [
        "# Advanced Generative Artificial Intelligence\n",
        "**Project - Designing a RAG-Based Q&A System for News Retrieval**\n",
        "\n",
        "**Authors:** Vsevolod Mironov, Pascal Küng, Alvaro Cervan (Group 5)\n"
      ]
    },
    {
      "cell_type": "markdown",
      "id": "2",
      "metadata": {
        "id": "2"
      },
      "source": [
        "# Step 1 - Data preparation\n",
        "\n",
        "**Contribution:** Vsevolod Mironov, Pascal Küng, Alvaro Cervan\n",
        "\n",
        "**Goal of this step:** To create a clean and well-structured multilingual dataset of news articles with enriched metadata, optimized for efficient indexing and retrieval in a future RAG-based system."
      ]
    },
    {
      "cell_type": "markdown",
      "id": "3",
      "metadata": {
        "id": "3"
      },
      "source": [
        "# 1. Loading, Parsing, and Cleaning HTML Files"
      ]
    },
    {
      "cell_type": "markdown",
      "id": "4",
      "metadata": {
        "id": "4"
      },
      "source": [
        "## 1.1 Setup of the environment"
      ]
    },
    {
      "cell_type": "markdown",
      "source": [
        "### Installations and loading of packages"
      ],
      "metadata": {
        "id": "WgHleaKd83FB"
      },
      "id": "WgHleaKd83FB"
    },
    {
      "cell_type": "markdown",
      "id": "5",
      "metadata": {
        "id": "5"
      },
      "source": [
        "Below the necessary libraries are installed and loaded into the environment."
      ]
    },
    {
      "cell_type": "code",
      "execution_count": 1,
      "id": "10",
      "metadata": {
        "colab": {
          "base_uri": "https://localhost:8080/"
        },
        "id": "10",
        "outputId": "c80cc0ba-bc46-4366-8470-e2bb3fe7f219"
      },
      "outputs": [
        {
          "output_type": "stream",
          "name": "stdout",
          "text": [
            "\u001b[?25l     \u001b[90m━━━━━━━━━━━━━━━━━━━━━━━━━━━━━━━━━━━━━━━━\u001b[0m \u001b[32m0.0/162.6 kB\u001b[0m \u001b[31m?\u001b[0m eta \u001b[36m-:--:--\u001b[0m\r\u001b[2K     \u001b[90m━━━━━━━━━━━━━━━━━━━━━━━━━━━━━━━━━━━━━━\u001b[0m \u001b[32m162.6/162.6 kB\u001b[0m \u001b[31m10.5 MB/s\u001b[0m eta \u001b[36m0:00:00\u001b[0m\n",
            "\u001b[?25h  Preparing metadata (setup.py) ... \u001b[?25l\u001b[?25hdone\n",
            "\u001b[2K     \u001b[90m━━━━━━━━━━━━━━━━━━━━━━━━━━━━━━━━━━━━━━━━\u001b[0m \u001b[32m48.2/48.2 kB\u001b[0m \u001b[31m4.3 MB/s\u001b[0m eta \u001b[36m0:00:00\u001b[0m\n",
            "\u001b[2K   \u001b[90m━━━━━━━━━━━━━━━━━━━━━━━━━━━━━━━━━━━━━━━━\u001b[0m \u001b[32m166.1/166.1 kB\u001b[0m \u001b[31m15.4 MB/s\u001b[0m eta \u001b[36m0:00:00\u001b[0m\n",
            "\u001b[2K   \u001b[90m━━━━━━━━━━━━━━━━━━━━━━━━━━━━━━━━━━━━━━━━\u001b[0m \u001b[32m142.8/142.8 kB\u001b[0m \u001b[31m12.7 MB/s\u001b[0m eta \u001b[36m0:00:00\u001b[0m\n",
            "\u001b[2K   \u001b[90m━━━━━━━━━━━━━━━━━━━━━━━━━━━━━━━━━━━━━━━━\u001b[0m \u001b[32m80.9/80.9 kB\u001b[0m \u001b[31m6.9 MB/s\u001b[0m eta \u001b[36m0:00:00\u001b[0m\n",
            "\u001b[2K   \u001b[90m━━━━━━━━━━━━━━━━━━━━━━━━━━━━━━━━━━━━━━━━\u001b[0m \u001b[32m15.1/15.1 MB\u001b[0m \u001b[31m110.7 MB/s\u001b[0m eta \u001b[36m0:00:00\u001b[0m\n",
            "\u001b[2K   \u001b[90m━━━━━━━━━━━━━━━━━━━━━━━━━━━━━━━━━━━━━━━━\u001b[0m \u001b[32m2.9/2.9 MB\u001b[0m \u001b[31m88.3 MB/s\u001b[0m eta \u001b[36m0:00:00\u001b[0m\n",
            "\u001b[2K   \u001b[90m━━━━━━━━━━━━━━━━━━━━━━━━━━━━━━━━━━━━━━━━\u001b[0m \u001b[32m42.2/42.2 kB\u001b[0m \u001b[31m3.4 MB/s\u001b[0m eta \u001b[36m0:00:00\u001b[0m\n",
            "\u001b[2K   \u001b[90m━━━━━━━━━━━━━━━━━━━━━━━━━━━━━━━━━━━━━━━━\u001b[0m \u001b[32m44.4/44.4 kB\u001b[0m \u001b[31m3.7 MB/s\u001b[0m eta \u001b[36m0:00:00\u001b[0m\n",
            "\u001b[2K   \u001b[90m━━━━━━━━━━━━━━━━━━━━━━━━━━━━━━━━━━━━━━━━\u001b[0m \u001b[32m2.9/2.9 MB\u001b[0m \u001b[31m102.8 MB/s\u001b[0m eta \u001b[36m0:00:00\u001b[0m\n",
            "\u001b[2K   \u001b[90m━━━━━━━━━━━━━━━━━━━━━━━━━━━━━━━━━━━━━━━━\u001b[0m \u001b[32m244.3/244.3 kB\u001b[0m \u001b[31m21.8 MB/s\u001b[0m eta \u001b[36m0:00:00\u001b[0m\n",
            "\u001b[2K   \u001b[90m━━━━━━━━━━━━━━━━━━━━━━━━━━━━━━━━━━━━━━━━\u001b[0m \u001b[32m472.8/472.8 kB\u001b[0m \u001b[31m36.6 MB/s\u001b[0m eta \u001b[36m0:00:00\u001b[0m\n",
            "\u001b[2K   \u001b[90m━━━━━━━━━━━━━━━━━━━━━━━━━━━━━━━━━━━━━━━━\u001b[0m \u001b[32m541.1/541.1 kB\u001b[0m \u001b[31m32.9 MB/s\u001b[0m eta \u001b[36m0:00:00\u001b[0m\n",
            "\u001b[2K   \u001b[90m━━━━━━━━━━━━━━━━━━━━━━━━━━━━━━━━━━━━━━━━\u001b[0m \u001b[32m73.7/73.7 kB\u001b[0m \u001b[31m7.1 MB/s\u001b[0m eta \u001b[36m0:00:00\u001b[0m\n",
            "\u001b[2K   \u001b[90m━━━━━━━━━━━━━━━━━━━━━━━━━━━━━━━━━━━━━━━━\u001b[0m \u001b[32m363.4/363.4 MB\u001b[0m \u001b[31m3.2 MB/s\u001b[0m eta \u001b[36m0:00:00\u001b[0m\n",
            "\u001b[2K   \u001b[90m━━━━━━━━━━━━━━━━━━━━━━━━━━━━━━━━━━━━━━━━\u001b[0m \u001b[32m13.8/13.8 MB\u001b[0m \u001b[31m125.7 MB/s\u001b[0m eta \u001b[36m0:00:00\u001b[0m\n",
            "\u001b[2K   \u001b[90m━━━━━━━━━━━━━━━━━━━━━━━━━━━━━━━━━━━━━━━━\u001b[0m \u001b[32m24.6/24.6 MB\u001b[0m \u001b[31m101.7 MB/s\u001b[0m eta \u001b[36m0:00:00\u001b[0m\n",
            "\u001b[2K   \u001b[90m━━━━━━━━━━━━━━━━━━━━━━━━━━━━━━━━━━━━━━━━\u001b[0m \u001b[32m883.7/883.7 kB\u001b[0m \u001b[31m63.1 MB/s\u001b[0m eta \u001b[36m0:00:00\u001b[0m\n",
            "\u001b[2K   \u001b[90m━━━━━━━━━━━━━━━━━━━━━━━━━━━━━━━━━━━━━━━━\u001b[0m \u001b[32m664.8/664.8 MB\u001b[0m \u001b[31m2.2 MB/s\u001b[0m eta \u001b[36m0:00:00\u001b[0m\n",
            "\u001b[2K   \u001b[90m━━━━━━━━━━━━━━━━━━━━━━━━━━━━━━━━━━━━━━━━\u001b[0m \u001b[32m211.5/211.5 MB\u001b[0m \u001b[31m4.9 MB/s\u001b[0m eta \u001b[36m0:00:00\u001b[0m\n",
            "\u001b[2K   \u001b[90m━━━━━━━━━━━━━━━━━━━━━━━━━━━━━━━━━━━━━━━━\u001b[0m \u001b[32m56.3/56.3 MB\u001b[0m \u001b[31m43.8 MB/s\u001b[0m eta \u001b[36m0:00:00\u001b[0m\n",
            "\u001b[2K   \u001b[90m━━━━━━━━━━━━━━━━━━━━━━━━━━━━━━━━━━━━━━━━\u001b[0m \u001b[32m127.9/127.9 MB\u001b[0m \u001b[31m19.5 MB/s\u001b[0m eta \u001b[36m0:00:00\u001b[0m\n",
            "\u001b[2K   \u001b[90m━━━━━━━━━━━━━━━━━━━━━━━━━━━━━━━━━━━━━━━━\u001b[0m \u001b[32m207.5/207.5 MB\u001b[0m \u001b[31m5.0 MB/s\u001b[0m eta \u001b[36m0:00:00\u001b[0m\n",
            "\u001b[2K   \u001b[90m━━━━━━━━━━━━━━━━━━━━━━━━━━━━━━━━━━━━━━━━\u001b[0m \u001b[32m21.1/21.1 MB\u001b[0m \u001b[31m103.5 MB/s\u001b[0m eta \u001b[36m0:00:00\u001b[0m\n",
            "\u001b[2K   \u001b[90m━━━━━━━━━━━━━━━━━━━━━━━━━━━━━━━━━━━━━━━━\u001b[0m \u001b[32m169.4/169.4 kB\u001b[0m \u001b[31m14.8 MB/s\u001b[0m eta \u001b[36m0:00:00\u001b[0m\n",
            "\u001b[2K   \u001b[90m━━━━━━━━━━━━━━━━━━━━━━━━━━━━━━━━━━━━━━━━\u001b[0m \u001b[32m422.8/422.8 kB\u001b[0m \u001b[31m33.5 MB/s\u001b[0m eta \u001b[36m0:00:00\u001b[0m\n",
            "\u001b[2K   \u001b[90m━━━━━━━━━━━━━━━━━━━━━━━━━━━━━━━━━━━━━━━━\u001b[0m \u001b[32m969.6/969.6 kB\u001b[0m \u001b[31m63.0 MB/s\u001b[0m eta \u001b[36m0:00:00\u001b[0m\n",
            "\u001b[2K   \u001b[90m━━━━━━━━━━━━━━━━━━━━━━━━━━━━━━━━━━━━━━━━\u001b[0m \u001b[32m292.9/292.9 kB\u001b[0m \u001b[31m23.8 MB/s\u001b[0m eta \u001b[36m0:00:00\u001b[0m\n",
            "\u001b[2K   \u001b[90m━━━━━━━━━━━━━━━━━━━━━━━━━━━━━━━━━━━━━━━━\u001b[0m \u001b[32m272.8/272.8 kB\u001b[0m \u001b[31m25.2 MB/s\u001b[0m eta \u001b[36m0:00:00\u001b[0m\n",
            "\u001b[?25h  Building wheel for pylatexenc (setup.py) ... \u001b[?25l\u001b[?25hdone\n"
          ]
        }
      ],
      "source": [
        "!pip install -q beautifulsoup4==4.13.4\n",
        "!pip install -q docling==2.31.0\n",
        "from bs4 import BeautifulSoup, Comment\n",
        "import docling\n",
        "from docling.document_converter import DocumentConverter, InputFormat, HTMLFormatOption\n",
        "from docling.datamodel.base_models import InputFormat\n",
        "from docling.datamodel.pipeline_options import AcceleratorDevice, AcceleratorOptions\n",
        "from docling.datamodel.pipeline_options import PipelineOptions"
      ]
    },
    {
      "cell_type": "code",
      "execution_count": 2,
      "id": "11",
      "metadata": {
        "id": "11"
      },
      "outputs": [],
      "source": [
        "import os\n",
        "import re\n",
        "import random\n",
        "import numpy as np\n",
        "import pandas as pd\n",
        "from tqdm import tqdm\n",
        "tqdm.pandas()\n",
        "import matplotlib.pyplot as plt\n",
        "import tempfile"
      ]
    },
    {
      "cell_type": "markdown",
      "source": [
        "### Setting seeds and mounting Google Drive storage folder"
      ],
      "metadata": {
        "id": "lv_dF2h09POy"
      },
      "id": "lv_dF2h09POy"
    },
    {
      "cell_type": "code",
      "execution_count": 3,
      "id": "12",
      "metadata": {
        "id": "12"
      },
      "outputs": [],
      "source": [
        "# Set the seed for consistent results\n",
        "seed_value = 2138247234\n",
        "random.seed(seed_value)\n",
        "np.random.seed(seed_value)\n",
        "os.environ['PYTHONHASHSEED'] = str(seed_value)"
      ]
    },
    {
      "cell_type": "markdown",
      "id": "13",
      "metadata": {
        "id": "13"
      },
      "source": [
        "Below we mount a shared Google Drive folder as a data storage and define the base path of the folder that will be used in the runtime."
      ]
    },
    {
      "cell_type": "code",
      "execution_count": 4,
      "id": "14",
      "metadata": {
        "colab": {
          "base_uri": "https://localhost:8080/"
        },
        "id": "14",
        "outputId": "53066945-93fe-417b-b951-3139e94c0f78"
      },
      "outputs": [
        {
          "output_type": "stream",
          "name": "stdout",
          "text": [
            "Mounted at /content/drive\n"
          ]
        }
      ],
      "source": [
        "from google.colab import drive\n",
        "drive.mount('/content/drive')"
      ]
    },
    {
      "cell_type": "code",
      "execution_count": 5,
      "id": "15",
      "metadata": {
        "id": "15"
      },
      "outputs": [],
      "source": [
        "base_folder = '/content/drive/MyDrive/AdvGenAI'"
      ]
    },
    {
      "cell_type": "markdown",
      "source": [
        "### Check properties of environment"
      ],
      "metadata": {
        "id": "IOu4izsH8oV4"
      },
      "id": "IOu4izsH8oV4"
    },
    {
      "cell_type": "code",
      "execution_count": 6,
      "id": "6",
      "metadata": {
        "colab": {
          "base_uri": "https://localhost:8080/"
        },
        "id": "6",
        "outputId": "8e9f1080-6e3d-47ce-b2b3-7ebbe2ca9c14"
      },
      "outputs": [
        {
          "output_type": "stream",
          "name": "stdout",
          "text": [
            "Wed May 21 08:29:26 2025       \n",
            "+-----------------------------------------------------------------------------------------+\n",
            "| NVIDIA-SMI 550.54.15              Driver Version: 550.54.15      CUDA Version: 12.4     |\n",
            "|-----------------------------------------+------------------------+----------------------+\n",
            "| GPU  Name                 Persistence-M | Bus-Id          Disp.A | Volatile Uncorr. ECC |\n",
            "| Fan  Temp   Perf          Pwr:Usage/Cap |           Memory-Usage | GPU-Util  Compute M. |\n",
            "|                                         |                        |               MIG M. |\n",
            "|=========================================+========================+======================|\n",
            "|   0  NVIDIA L4                      Off |   00000000:00:03.0 Off |                    0 |\n",
            "| N/A   36C    P8             17W /   72W |       3MiB /  23034MiB |      0%      Default |\n",
            "|                                         |                        |                  N/A |\n",
            "+-----------------------------------------+------------------------+----------------------+\n",
            "                                                                                         \n",
            "+-----------------------------------------------------------------------------------------+\n",
            "| Processes:                                                                              |\n",
            "|  GPU   GI   CI        PID   Type   Process name                              GPU Memory |\n",
            "|        ID   ID                                                               Usage      |\n",
            "|=========================================================================================|\n",
            "|  No running processes found                                                             |\n",
            "+-----------------------------------------------------------------------------------------+\n"
          ]
        }
      ],
      "source": [
        "!nvidia-smi"
      ]
    },
    {
      "cell_type": "code",
      "execution_count": 7,
      "id": "7",
      "metadata": {
        "colab": {
          "base_uri": "https://localhost:8080/"
        },
        "id": "7",
        "outputId": "4db2464d-e123-4281-c7c0-bb7738aa51da"
      },
      "outputs": [
        {
          "output_type": "stream",
          "name": "stdout",
          "text": [
            "Package                               Version\n",
            "------------------------------------- -------------------\n",
            "absl-py                               1.4.0\n",
            "accelerate                            1.6.0\n",
            "aiohappyeyeballs                      2.6.1\n",
            "aiohttp                               3.11.15\n",
            "aiosignal                             1.3.2\n",
            "alabaster                             1.0.0\n",
            "albucore                              0.0.24\n",
            "albumentations                        2.0.6\n",
            "ale-py                                0.11.0\n",
            "altair                                5.5.0\n",
            "annotated-types                       0.7.0\n",
            "antlr4-python3-runtime                4.9.3\n",
            "anyio                                 4.9.0\n",
            "argon2-cffi                           23.1.0\n",
            "argon2-cffi-bindings                  21.2.0\n",
            "array_record                          0.7.2\n",
            "arviz                                 0.21.0\n",
            "astropy                               7.0.2\n",
            "astropy-iers-data                     0.2025.5.12.0.38.29\n",
            "astunparse                            1.6.3\n",
            "atpublic                              5.1\n",
            "attrs                                 25.3.0\n",
            "audioread                             3.0.1\n",
            "autograd                              1.8.0\n",
            "babel                                 2.17.0\n",
            "backcall                              0.2.0\n",
            "backports.tarfile                     1.2.0\n",
            "beautifulsoup4                        4.13.4\n",
            "betterproto                           2.0.0b6\n",
            "bigframes                             2.4.0\n",
            "bigquery-magics                       0.9.0\n",
            "bleach                                6.2.0\n",
            "blinker                               1.9.0\n",
            "blis                                  1.3.0\n",
            "blobfile                              3.0.0\n",
            "blosc2                                3.3.2\n",
            "bokeh                                 3.7.3\n",
            "Bottleneck                            1.4.2\n",
            "bqplot                                0.12.44\n",
            "branca                                0.8.1\n",
            "build                                 1.2.2.post1\n",
            "CacheControl                          0.14.3\n",
            "cachetools                            5.5.2\n",
            "catalogue                             2.0.10\n",
            "certifi                               2025.4.26\n",
            "cffi                                  1.17.1\n",
            "chardet                               5.2.0\n",
            "charset-normalizer                    3.4.2\n",
            "chex                                  0.1.89\n",
            "clarabel                              0.10.0\n",
            "click                                 8.2.0\n",
            "cloudpathlib                          0.21.0\n",
            "cloudpickle                           3.1.1\n",
            "cmake                                 3.31.6\n",
            "cmdstanpy                             1.2.5\n",
            "colorcet                              3.1.0\n",
            "colorlover                            0.3.0\n",
            "colour                                0.1.5\n",
            "community                             1.0.0b1\n",
            "confection                            0.1.5\n",
            "cons                                  0.4.6\n",
            "contourpy                             1.3.2\n",
            "cramjam                               2.10.0\n",
            "cryptography                          43.0.3\n",
            "cuda-python                           12.6.2.post1\n",
            "cudf-cu12                             25.2.1\n",
            "cudf-polars-cu12                      25.2.2\n",
            "cufflinks                             0.17.3\n",
            "cuml-cu12                             25.2.1\n",
            "cupy-cuda12x                          13.3.0\n",
            "curl_cffi                             0.10.0\n",
            "cuvs-cu12                             25.2.1\n",
            "cvxopt                                1.3.2\n",
            "cvxpy                                 1.6.5\n",
            "cycler                                0.12.1\n",
            "cyipopt                               1.5.0\n",
            "cymem                                 2.0.11\n",
            "Cython                                3.0.12\n",
            "dask                                  2024.12.1\n",
            "dask-cuda                             25.2.0\n",
            "dask-cudf-cu12                        25.2.2\n",
            "dask-expr                             1.1.21\n",
            "dataproc-spark-connect                0.7.3\n",
            "datascience                           0.17.6\n",
            "datasets                              2.14.4\n",
            "db-dtypes                             1.4.3\n",
            "dbus-python                           1.2.18\n",
            "debugpy                               1.8.0\n",
            "decorator                             4.4.2\n",
            "defusedxml                            0.7.1\n",
            "diffusers                             0.33.1\n",
            "dill                                  0.3.7\n",
            "distributed                           2024.12.1\n",
            "distributed-ucxx-cu12                 0.42.0\n",
            "distro                                1.9.0\n",
            "dlib                                  19.24.6\n",
            "dm-tree                               0.1.9\n",
            "docker-pycreds                        0.4.0\n",
            "docling                               2.31.0\n",
            "docling-core                          2.31.1\n",
            "docling-ibm-models                    3.4.3\n",
            "docling-parse                         4.0.1\n",
            "docstring_parser                      0.16\n",
            "docutils                              0.21.2\n",
            "dopamine_rl                           4.1.2\n",
            "duckdb                                1.2.2\n",
            "earthengine-api                       1.5.15\n",
            "easydict                              1.13\n",
            "easyocr                               1.7.2\n",
            "editdistance                          0.8.1\n",
            "eerepr                                0.1.2\n",
            "einops                                0.8.1\n",
            "en_core_web_sm                        3.8.0\n",
            "entrypoints                           0.4\n",
            "et_xmlfile                            2.0.0\n",
            "etils                                 1.12.2\n",
            "etuples                               0.3.9\n",
            "Farama-Notifications                  0.0.4\n",
            "fastai                                2.7.19\n",
            "fastcore                              1.7.29\n",
            "fastdownload                          0.0.7\n",
            "fastjsonschema                        2.21.1\n",
            "fastprogress                          1.0.3\n",
            "fastrlock                             0.8.3\n",
            "filelock                              3.18.0\n",
            "filetype                              1.2.0\n",
            "firebase-admin                        6.8.0\n",
            "Flask                                 3.1.1\n",
            "flatbuffers                           25.2.10\n",
            "flax                                  0.10.6\n",
            "folium                                0.19.5\n",
            "fonttools                             4.58.0\n",
            "frozendict                            2.4.6\n",
            "frozenlist                            1.6.0\n",
            "fsspec                                2025.3.2\n",
            "future                                1.0.0\n",
            "gast                                  0.6.0\n",
            "gcsfs                                 2025.3.2\n",
            "GDAL                                  3.6.4\n",
            "gdown                                 5.2.0\n",
            "geemap                                0.35.3\n",
            "geocoder                              1.38.1\n",
            "geographiclib                         2.0\n",
            "geopandas                             1.0.1\n",
            "geopy                                 2.4.1\n",
            "gin-config                            0.5.0\n",
            "gitdb                                 4.0.12\n",
            "GitPython                             3.1.44\n",
            "glob2                                 0.7\n",
            "google                                2.0.3\n",
            "google-ai-generativelanguage          0.6.15\n",
            "google-api-core                       2.24.2\n",
            "google-api-python-client              2.169.0\n",
            "google-auth                           2.38.0\n",
            "google-auth-httplib2                  0.2.0\n",
            "google-auth-oauthlib                  1.2.2\n",
            "google-cloud-aiplatform               1.92.0\n",
            "google-cloud-bigquery                 3.32.0\n",
            "google-cloud-bigquery-connection      1.18.2\n",
            "google-cloud-bigquery-storage         2.31.0\n",
            "google-cloud-core                     2.4.3\n",
            "google-cloud-dataproc                 5.18.1\n",
            "google-cloud-datastore                2.21.0\n",
            "google-cloud-firestore                2.20.2\n",
            "google-cloud-functions                1.20.3\n",
            "google-cloud-iam                      2.19.0\n",
            "google-cloud-language                 2.17.1\n",
            "google-cloud-resource-manager         1.14.2\n",
            "google-cloud-spanner                  3.54.0\n",
            "google-cloud-storage                  2.19.0\n",
            "google-cloud-translate                3.20.2\n",
            "google-colab                          1.0.0\n",
            "google-crc32c                         1.7.1\n",
            "google-genai                          1.15.0\n",
            "google-generativeai                   0.8.5\n",
            "google-pasta                          0.2.0\n",
            "google-resumable-media                2.7.2\n",
            "googleapis-common-protos              1.70.0\n",
            "googledrivedownloader                 1.1.0\n",
            "graphviz                              0.20.3\n",
            "greenlet                              3.2.2\n",
            "grpc-google-iam-v1                    0.14.2\n",
            "grpc-interceptor                      0.15.4\n",
            "grpcio                                1.71.0\n",
            "grpcio-status                         1.71.0\n",
            "grpclib                               0.4.8\n",
            "gspread                               6.2.0\n",
            "gspread-dataframe                     4.0.0\n",
            "gym                                   0.25.2\n",
            "gym-notices                           0.0.8\n",
            "gymnasium                             1.1.1\n",
            "h11                                   0.16.0\n",
            "h2                                    4.2.0\n",
            "h5netcdf                              1.6.1\n",
            "h5py                                  3.13.0\n",
            "hdbscan                               0.8.40\n",
            "hf_transfer                           0.1.9\n",
            "highspy                               1.10.0\n",
            "holidays                              0.72\n",
            "holoviews                             1.20.2\n",
            "hpack                                 4.1.0\n",
            "html5lib                              1.1\n",
            "httpcore                              1.0.9\n",
            "httpimport                            1.4.1\n",
            "httplib2                              0.22.0\n",
            "httpx                                 0.28.1\n",
            "huggingface-hub                       0.31.2\n",
            "humanize                              4.12.3\n",
            "hyperframe                            6.1.0\n",
            "hyperopt                              0.2.7\n",
            "ibis-framework                        9.5.0\n",
            "idna                                  3.10\n",
            "imageio                               2.37.0\n",
            "imageio-ffmpeg                        0.6.0\n",
            "imagesize                             1.4.1\n",
            "imbalanced-learn                      0.13.0\n",
            "immutabledict                         4.2.1\n",
            "importlib_metadata                    8.7.0\n",
            "importlib_resources                   6.5.2\n",
            "imutils                               0.5.4\n",
            "inflect                               7.5.0\n",
            "iniconfig                             2.1.0\n",
            "intel-cmplr-lib-ur                    2025.1.1\n",
            "intel-openmp                          2025.1.1\n",
            "ipyevents                             2.0.2\n",
            "ipyfilechooser                        0.6.0\n",
            "ipykernel                             6.17.1\n",
            "ipyleaflet                            0.19.2\n",
            "ipyparallel                           8.8.0\n",
            "ipython                               7.34.0\n",
            "ipython-genutils                      0.2.0\n",
            "ipython-sql                           0.5.0\n",
            "ipytree                               0.2.2\n",
            "ipywidgets                            7.7.1\n",
            "itsdangerous                          2.2.0\n",
            "jaraco.classes                        3.4.0\n",
            "jaraco.context                        6.0.1\n",
            "jaraco.functools                      4.1.0\n",
            "jax                                   0.5.2\n",
            "jax-cuda12-pjrt                       0.5.1\n",
            "jax-cuda12-plugin                     0.5.1\n",
            "jaxlib                                0.5.1\n",
            "jeepney                               0.9.0\n",
            "jieba                                 0.42.1\n",
            "Jinja2                                3.1.6\n",
            "jiter                                 0.9.0\n",
            "joblib                                1.5.0\n",
            "jsonlines                             3.1.0\n",
            "jsonpatch                             1.33\n",
            "jsonpickle                            4.0.5\n",
            "jsonpointer                           3.0.0\n",
            "jsonref                               1.1.0\n",
            "jsonschema                            4.23.0\n",
            "jsonschema-specifications             2025.4.1\n",
            "jupyter-client                        6.1.12\n",
            "jupyter-console                       6.1.0\n",
            "jupyter_core                          5.7.2\n",
            "jupyter_kernel_gateway                2.5.2\n",
            "jupyter-leaflet                       0.19.2\n",
            "jupyter-server                        1.16.0\n",
            "jupyterlab_pygments                   0.3.0\n",
            "jupyterlab_widgets                    3.0.15\n",
            "kaggle                                1.7.4.5\n",
            "kagglehub                             0.3.12\n",
            "keras                                 3.8.0\n",
            "keras-hub                             0.18.1\n",
            "keras-nlp                             0.18.1\n",
            "keyring                               25.6.0\n",
            "keyrings.google-artifactregistry-auth 1.1.2\n",
            "kiwisolver                            1.4.8\n",
            "langchain                             0.3.25\n",
            "langchain-core                        0.3.59\n",
            "langchain-text-splitters              0.3.8\n",
            "langcodes                             3.5.0\n",
            "langsmith                             0.3.42\n",
            "language_data                         1.3.0\n",
            "latex2mathml                          3.78.0\n",
            "launchpadlib                          1.10.16\n",
            "lazr.restfulclient                    0.14.4\n",
            "lazr.uri                              1.0.6\n",
            "lazy_loader                           0.4\n",
            "libclang                              18.1.1\n",
            "libcudf-cu12                          25.2.1\n",
            "libcugraph-cu12                       25.2.0\n",
            "libcuml-cu12                          25.2.1\n",
            "libcuvs-cu12                          25.2.1\n",
            "libkvikio-cu12                        25.2.1\n",
            "libpysal                              4.13.0\n",
            "libraft-cu12                          25.2.0\n",
            "librosa                               0.11.0\n",
            "libucx-cu12                           1.18.1\n",
            "libucxx-cu12                          0.42.0\n",
            "lightgbm                              4.5.0\n",
            "linkify-it-py                         2.0.3\n",
            "llvmlite                              0.43.0\n",
            "locket                                1.0.0\n",
            "logical-unification                   0.4.6\n",
            "lxml                                  5.4.0\n",
            "Mako                                  1.1.3\n",
            "marisa-trie                           1.2.1\n",
            "Markdown                              3.8\n",
            "markdown-it-py                        3.0.0\n",
            "marko                                 2.1.3\n",
            "MarkupSafe                            3.0.2\n",
            "matplotlib                            3.10.0\n",
            "matplotlib-inline                     0.1.7\n",
            "matplotlib-venn                       1.1.2\n",
            "mdit-py-plugins                       0.4.2\n",
            "mdurl                                 0.1.2\n",
            "miniKanren                            1.0.3\n",
            "missingno                             0.5.2\n",
            "mistune                               3.1.3\n",
            "mizani                                0.13.5\n",
            "mkl                                   2025.0.1\n",
            "ml-dtypes                             0.4.1\n",
            "mlxtend                               0.23.4\n",
            "more-itertools                        10.7.0\n",
            "moviepy                               1.0.3\n",
            "mpire                                 2.10.2\n",
            "mpmath                                1.3.0\n",
            "msgpack                               1.1.0\n",
            "multidict                             6.4.3\n",
            "multipledispatch                      1.0.0\n",
            "multiprocess                          0.70.15\n",
            "multitasking                          0.0.11\n",
            "murmurhash                            1.0.12\n",
            "music21                               9.3.0\n",
            "namex                                 0.0.9\n",
            "narwhals                              1.39.0\n",
            "natsort                               8.4.0\n",
            "nbclassic                             1.3.1\n",
            "nbclient                              0.10.2\n",
            "nbconvert                             7.16.6\n",
            "nbformat                              5.10.4\n",
            "ndindex                               1.9.2\n",
            "nest-asyncio                          1.6.0\n",
            "networkx                              3.4.2\n",
            "nibabel                               5.3.2\n",
            "ninja                                 1.11.1.4\n",
            "nltk                                  3.9.1\n",
            "notebook                              6.5.7\n",
            "notebook_shim                         0.2.4\n",
            "numba                                 0.60.0\n",
            "numba-cuda                            0.2.0\n",
            "numexpr                               2.10.2\n",
            "numpy                                 2.0.2\n",
            "nvidia-cublas-cu12                    12.4.5.8\n",
            "nvidia-cuda-cupti-cu12                12.4.127\n",
            "nvidia-cuda-nvcc-cu12                 12.5.82\n",
            "nvidia-cuda-nvrtc-cu12                12.4.127\n",
            "nvidia-cuda-runtime-cu12              12.4.127\n",
            "nvidia-cudnn-cu12                     9.1.0.70\n",
            "nvidia-cufft-cu12                     11.2.1.3\n",
            "nvidia-curand-cu12                    10.3.5.147\n",
            "nvidia-cusolver-cu12                  11.6.1.9\n",
            "nvidia-cusparse-cu12                  12.3.1.170\n",
            "nvidia-cusparselt-cu12                0.6.2\n",
            "nvidia-ml-py                          12.575.51\n",
            "nvidia-nccl-cu12                      2.21.5\n",
            "nvidia-nvcomp-cu12                    4.2.0.11\n",
            "nvidia-nvjitlink-cu12                 12.4.127\n",
            "nvidia-nvtx-cu12                      12.4.127\n",
            "nvtx                                  0.2.11\n",
            "nx-cugraph-cu12                       25.2.0\n",
            "oauth2client                          4.1.3\n",
            "oauthlib                              3.2.2\n",
            "omegaconf                             2.3.0\n",
            "openai                                1.78.1\n",
            "opencv-contrib-python                 4.11.0.86\n",
            "opencv-python                         4.11.0.86\n",
            "opencv-python-headless                4.11.0.86\n",
            "openpyxl                              3.1.5\n",
            "opt_einsum                            3.4.0\n",
            "optax                                 0.2.4\n",
            "optree                                0.15.0\n",
            "orbax-checkpoint                      0.11.13\n",
            "orjson                                3.10.18\n",
            "osqp                                  1.0.4\n",
            "packaging                             24.2\n",
            "pandas                                2.2.2\n",
            "pandas-datareader                     0.10.0\n",
            "pandas-gbq                            0.28.1\n",
            "pandas-stubs                          2.2.2.240909\n",
            "pandocfilters                         1.5.1\n",
            "panel                                 1.6.3\n",
            "param                                 2.2.0\n",
            "parso                                 0.8.4\n",
            "parsy                                 2.1\n",
            "partd                                 1.4.2\n",
            "pathlib                               1.0.1\n",
            "patsy                                 1.0.1\n",
            "peewee                                3.18.1\n",
            "peft                                  0.15.2\n",
            "pexpect                               4.9.0\n",
            "pickleshare                           0.7.5\n",
            "pillow                                11.2.1\n",
            "pip                                   24.1.2\n",
            "platformdirs                          4.3.8\n",
            "plotly                                5.24.1\n",
            "plotnine                              0.14.5\n",
            "pluggy                                1.5.0\n",
            "ply                                   3.11\n",
            "polars                                1.21.0\n",
            "pooch                                 1.8.2\n",
            "portpicker                            1.5.2\n",
            "preshed                               3.0.9\n",
            "prettytable                           3.16.0\n",
            "proglog                               0.1.12\n",
            "progressbar2                          4.5.0\n",
            "prometheus_client                     0.21.1\n",
            "promise                               2.3\n",
            "prompt_toolkit                        3.0.51\n",
            "propcache                             0.3.1\n",
            "prophet                               1.1.6\n",
            "proto-plus                            1.26.1\n",
            "protobuf                              5.29.4\n",
            "psutil                                5.9.5\n",
            "psycopg2                              2.9.10\n",
            "ptyprocess                            0.7.0\n",
            "py-cpuinfo                            9.0.0\n",
            "py4j                                  0.10.9.7\n",
            "pyarrow                               18.1.0\n",
            "pyasn1                                0.6.1\n",
            "pyasn1_modules                        0.4.2\n",
            "pycairo                               1.28.0\n",
            "pyclipper                             1.3.0.post6\n",
            "pycocotools                           2.0.8\n",
            "pycparser                             2.22\n",
            "pycryptodomex                         3.22.0\n",
            "pydantic                              2.11.4\n",
            "pydantic_core                         2.33.2\n",
            "pydantic-settings                     2.9.1\n",
            "pydata-google-auth                    1.9.1\n",
            "pydot                                 3.0.4\n",
            "pydotplus                             2.0.2\n",
            "PyDrive                               1.3.1\n",
            "PyDrive2                              1.21.3\n",
            "pyerfa                                2.0.1.5\n",
            "pygame                                2.6.1\n",
            "pygit2                                1.18.0\n",
            "Pygments                              2.19.1\n",
            "PyGObject                             3.42.0\n",
            "PyJWT                                 2.10.1\n",
            "pylatexenc                            2.10\n",
            "pylibcudf-cu12                        25.2.1\n",
            "pylibcugraph-cu12                     25.2.0\n",
            "pylibraft-cu12                        25.2.0\n",
            "pymc                                  5.22.0\n",
            "pymystem3                             0.2.0\n",
            "pynndescent                           0.5.13\n",
            "pynvjitlink-cu12                      0.6.0\n",
            "pynvml                                12.0.0\n",
            "pyogrio                               0.11.0\n",
            "pyomo                                 6.9.2\n",
            "PyOpenGL                              3.1.9\n",
            "pyOpenSSL                             24.2.1\n",
            "pyparsing                             3.2.3\n",
            "pypdfium2                             4.30.1\n",
            "pyperclip                             1.9.0\n",
            "pyproj                                3.7.1\n",
            "pyproject_hooks                       1.2.0\n",
            "pyshp                                 2.3.1\n",
            "PySocks                               1.7.1\n",
            "pyspark                               3.5.1\n",
            "pytensor                              2.30.3\n",
            "pytest                                8.3.5\n",
            "python-apt                            0.0.0\n",
            "python-bidi                           0.6.6\n",
            "python-box                            7.3.2\n",
            "python-dateutil                       2.9.0.post0\n",
            "python-docx                           1.1.2\n",
            "python-dotenv                         1.1.0\n",
            "python-louvain                        0.16\n",
            "python-pptx                           1.0.2\n",
            "python-slugify                        8.0.4\n",
            "python-snappy                         0.7.3\n",
            "python-utils                          3.9.1\n",
            "pytz                                  2025.2\n",
            "pyviz_comms                           3.0.4\n",
            "PyWavelets                            1.8.0\n",
            "PyYAML                                6.0.2\n",
            "pyzmq                                 24.0.1\n",
            "raft-dask-cu12                        25.2.0\n",
            "rapids-dask-dependency                25.2.0\n",
            "ratelim                               0.1.6\n",
            "referencing                           0.36.2\n",
            "regex                                 2024.11.6\n",
            "requests                              2.32.3\n",
            "requests-oauthlib                     2.0.0\n",
            "requests-toolbelt                     1.0.0\n",
            "requirements-parser                   0.9.0\n",
            "rich                                  13.9.4\n",
            "rmm-cu12                              25.2.0\n",
            "roman-numerals-py                     3.1.0\n",
            "rpds-py                               0.24.0\n",
            "rpy2                                  3.5.17\n",
            "rsa                                   4.9.1\n",
            "rtree                                 1.4.0\n",
            "safetensors                           0.5.3\n",
            "scikit-image                          0.25.2\n",
            "scikit-learn                          1.6.1\n",
            "scipy                                 1.15.3\n",
            "scooby                                0.10.1\n",
            "scs                                   3.2.7.post2\n",
            "seaborn                               0.13.2\n",
            "SecretStorage                         3.3.3\n",
            "semchunk                              2.2.2\n",
            "Send2Trash                            1.8.3\n",
            "sentence-transformers                 4.1.0\n",
            "sentencepiece                         0.2.0\n",
            "sentry-sdk                            2.28.0\n",
            "setproctitle                          1.3.6\n",
            "setuptools                            75.2.0\n",
            "shap                                  0.47.2\n",
            "shapely                               2.1.0\n",
            "shellingham                           1.5.4\n",
            "simple-parsing                        0.1.7\n",
            "simplejson                            3.20.1\n",
            "simsimd                               6.2.1\n",
            "six                                   1.17.0\n",
            "sklearn-compat                        0.1.3\n",
            "sklearn-pandas                        2.2.0\n",
            "slicer                                0.0.8\n",
            "smart-open                            7.1.0\n",
            "smmap                                 5.0.2\n",
            "sniffio                               1.3.1\n",
            "snowballstemmer                       3.0.1\n",
            "sortedcontainers                      2.4.0\n",
            "soundfile                             0.13.1\n",
            "soupsieve                             2.7\n",
            "soxr                                  0.5.0.post1\n",
            "spacy                                 3.8.5\n",
            "spacy-legacy                          3.0.12\n",
            "spacy-loggers                         1.0.5\n",
            "spanner-graph-notebook                1.1.6\n",
            "Sphinx                                8.2.3\n",
            "sphinxcontrib-applehelp               2.0.0\n",
            "sphinxcontrib-devhelp                 2.0.0\n",
            "sphinxcontrib-htmlhelp                2.1.0\n",
            "sphinxcontrib-jsmath                  1.0.1\n",
            "sphinxcontrib-qthelp                  2.0.0\n",
            "sphinxcontrib-serializinghtml         2.0.0\n",
            "SQLAlchemy                            2.0.40\n",
            "sqlglot                               25.20.2\n",
            "sqlparse                              0.5.3\n",
            "srsly                                 2.5.1\n",
            "stanio                                0.5.1\n",
            "statsmodels                           0.14.4\n",
            "stringzilla                           3.12.5\n",
            "stumpy                                1.13.0\n",
            "sympy                                 1.13.1\n",
            "tables                                3.10.2\n",
            "tabulate                              0.9.0\n",
            "tbb                                   2022.1.0\n",
            "tblib                                 3.1.0\n",
            "tcmlib                                1.3.0\n",
            "tenacity                              9.1.2\n",
            "tensorboard                           2.18.0\n",
            "tensorboard-data-server               0.7.2\n",
            "tensorflow                            2.18.0\n",
            "tensorflow-datasets                   4.9.8\n",
            "tensorflow_decision_forests           1.11.0\n",
            "tensorflow-hub                        0.16.1\n",
            "tensorflow-io-gcs-filesystem          0.37.1\n",
            "tensorflow-metadata                   1.17.1\n",
            "tensorflow-probability                0.25.0\n",
            "tensorflow-text                       2.18.1\n",
            "tensorstore                           0.1.74\n",
            "termcolor                             3.1.0\n",
            "terminado                             0.18.1\n",
            "text-unidecode                        1.3\n",
            "textblob                              0.19.0\n",
            "tf_keras                              2.18.0\n",
            "tf-slim                               1.1.0\n",
            "thinc                                 8.3.6\n",
            "threadpoolctl                         3.6.0\n",
            "tifffile                              2025.5.10\n",
            "tiktoken                              0.9.0\n",
            "timm                                  1.0.15\n",
            "tinycss2                              1.4.0\n",
            "tokenizers                            0.21.1\n",
            "toml                                  0.10.2\n",
            "toolz                                 0.12.1\n",
            "torch                                 2.6.0+cu124\n",
            "torchao                               0.10.0\n",
            "torchaudio                            2.6.0+cu124\n",
            "torchdata                             0.11.0\n",
            "torchsummary                          1.5.1\n",
            "torchtune                             0.6.1\n",
            "torchvision                           0.21.0+cu124\n",
            "tornado                               6.4.2\n",
            "tqdm                                  4.67.1\n",
            "traitlets                             5.7.1\n",
            "traittypes                            0.2.1\n",
            "transformers                          4.51.3\n",
            "treelite                              4.4.1\n",
            "treescope                             0.1.9\n",
            "triton                                3.2.0\n",
            "tsfresh                               0.21.0\n",
            "tweepy                                4.15.0\n",
            "typeguard                             4.4.2\n",
            "typer                                 0.15.3\n",
            "types-pytz                            2025.2.0.20250326\n",
            "types-setuptools                      80.4.0.20250511\n",
            "typing_extensions                     4.13.2\n",
            "typing-inspection                     0.4.0\n",
            "tzdata                                2025.2\n",
            "tzlocal                               5.3.1\n",
            "uc-micro-py                           1.0.3\n",
            "ucx-py-cu12                           0.42.0\n",
            "ucxx-cu12                             0.42.0\n",
            "umap-learn                            0.5.7\n",
            "umf                                   0.10.0\n",
            "uritemplate                           4.1.1\n",
            "urllib3                               2.4.0\n",
            "vega-datasets                         0.9.0\n",
            "wadllib                               1.3.6\n",
            "wandb                                 0.19.11\n",
            "wasabi                                1.1.3\n",
            "wcwidth                               0.2.13\n",
            "weasel                                0.4.1\n",
            "webcolors                             24.11.1\n",
            "webencodings                          0.5.1\n",
            "websocket-client                      1.8.0\n",
            "websockets                            15.0.1\n",
            "Werkzeug                              3.1.3\n",
            "wheel                                 0.45.1\n",
            "widgetsnbextension                    3.6.10\n",
            "wordcloud                             1.9.4\n",
            "wrapt                                 1.17.2\n",
            "wurlitzer                             3.1.1\n",
            "xarray                                2025.3.1\n",
            "xarray-einstats                       0.8.0\n",
            "xgboost                               2.1.4\n",
            "xlrd                                  2.0.1\n",
            "XlsxWriter                            3.2.3\n",
            "xxhash                                3.5.0\n",
            "xyzservices                           2025.4.0\n",
            "yarl                                  1.20.0\n",
            "ydf                                   0.11.0\n",
            "yellowbrick                           1.5\n",
            "yfinance                              0.2.61\n",
            "zict                                  3.0.0\n",
            "zipp                                  3.21.0\n",
            "zstandard                             0.23.0\n"
          ]
        }
      ],
      "source": [
        "!pip list"
      ]
    },
    {
      "cell_type": "markdown",
      "id": "16",
      "metadata": {
        "id": "16"
      },
      "source": [
        "## 1.2. Loading the raw data"
      ]
    },
    {
      "cell_type": "markdown",
      "id": "17",
      "metadata": {
        "id": "17"
      },
      "source": [
        "### Loading"
      ]
    },
    {
      "cell_type": "markdown",
      "id": "18",
      "metadata": {
        "id": "18"
      },
      "source": [
        "We go through the subdirectories inside the data-folder. Inside those folders the individual html-files will be read and the content will be saved together with the information of the file-name and the path of the file (to store in which subfolder it was located)."
      ]
    },
    {
      "cell_type": "code",
      "execution_count": 8,
      "id": "19",
      "metadata": {
        "id": "19"
      },
      "outputs": [],
      "source": [
        "# Definition of data folder\n",
        "data_folder = os.path.join(base_folder, 'data')"
      ]
    },
    {
      "cell_type": "code",
      "execution_count": null,
      "id": "20",
      "metadata": {
        "id": "20"
      },
      "outputs": [],
      "source": [
        "%%time\n",
        "# List to hold the dictionaries\n",
        "data = []\n",
        "\n",
        "# Walk through all directories and subdirectories\n",
        "for root, dirs, files in os.walk(data_folder):\n",
        "    for file in files:\n",
        "        if file.endswith('.html'):\n",
        "            file_path = os.path.join(root, file)\n",
        "\n",
        "            # Read the content of the HTML file\n",
        "            with open(file_path, 'r', encoding='utf-8') as f:\n",
        "                content = f.read()\n",
        "\n",
        "            # Add a dictionary to the list\n",
        "            data.append({\n",
        "                'folder_path': root,\n",
        "                'file_name': file,\n",
        "                'full_path': file_path,\n",
        "                'html_content': content\n",
        "            })\n",
        "\n",
        "# Convert to DataFrame\n",
        "df = pd.DataFrame(data)\n",
        "\n",
        "# Show first rows to verify\n",
        "print(df.head())"
      ]
    },
    {
      "cell_type": "code",
      "execution_count": null,
      "id": "21",
      "metadata": {
        "id": "21"
      },
      "outputs": [],
      "source": [
        "pd.set_option('display.max_colwidth', 50)\n",
        "df.head()"
      ]
    },
    {
      "cell_type": "code",
      "execution_count": null,
      "id": "22",
      "metadata": {
        "id": "22"
      },
      "outputs": [],
      "source": [
        "print(df.iloc[10:100, 2].values)"
      ]
    },
    {
      "cell_type": "code",
      "execution_count": null,
      "id": "23",
      "metadata": {
        "id": "23"
      },
      "outputs": [],
      "source": [
        "print(df.iloc[-100:-1, 2].values)"
      ]
    },
    {
      "cell_type": "markdown",
      "id": "24",
      "metadata": {
        "id": "24"
      },
      "source": [
        "### Checking completeness of loading"
      ]
    },
    {
      "cell_type": "markdown",
      "id": "25",
      "metadata": {
        "id": "25"
      },
      "source": [
        "**Number of files**\n",
        "\n",
        "Below we compare the number of documents collected by the function into the Dataframe with a selection of all files in the data folder.\n",
        "\n",
        "In the check 3 files were discovered that were not part of the dataframe. After inspection it was discovered that those are `.DS_Store`file, for which it makes sense that they were not included."
      ]
    },
    {
      "cell_type": "code",
      "execution_count": null,
      "id": "26",
      "metadata": {
        "id": "26"
      },
      "outputs": [],
      "source": [
        "# Dataframe\n",
        "print(f\"Number of files in the DataFrame: {len(df)}\")"
      ]
    },
    {
      "cell_type": "code",
      "execution_count": null,
      "id": "27",
      "metadata": {
        "id": "27"
      },
      "outputs": [],
      "source": [
        "# Files in Data folder\n",
        "print(f\"Number of files in the data folder:\")\n",
        "!find \"$data_folder\" -type f | wc -l"
      ]
    },
    {
      "cell_type": "code",
      "execution_count": null,
      "id": "28",
      "metadata": {
        "id": "28"
      },
      "outputs": [],
      "source": [
        "!find \"$data_folder\" -type f | sort > folder_files.txt\n",
        "df['full_path'].sort_values().to_csv('df_files.txt', index=False, header=False)\n",
        "!sort folder_files.txt -o folder_files.txt\n",
        "!sort df_files.txt -o df_files.txt\n",
        "!comm -23 folder_files.txt df_files.txt"
      ]
    },
    {
      "cell_type": "markdown",
      "id": "29",
      "metadata": {
        "id": "29"
      },
      "source": [
        "**Checking for empty files**\n",
        "\n",
        "Below we print out the rows of the dataframe with empty contents."
      ]
    },
    {
      "cell_type": "code",
      "execution_count": null,
      "id": "30",
      "metadata": {
        "id": "30"
      },
      "outputs": [],
      "source": [
        "df[df['html_content'].isna()].head(10)"
      ]
    },
    {
      "cell_type": "code",
      "execution_count": null,
      "id": "31",
      "metadata": {
        "id": "31"
      },
      "outputs": [],
      "source": [
        "print(f\"Files with no content: {len(df[df['html_content']==''])}\")\n",
        "df[df['html_content']==\"\"].head(10)"
      ]
    },
    {
      "cell_type": "code",
      "execution_count": null,
      "id": "32",
      "metadata": {
        "id": "32"
      },
      "outputs": [],
      "source": [
        "print(df.loc[df['html_content']==\"\", \"full_path\"].values)"
      ]
    },
    {
      "cell_type": "markdown",
      "id": "33",
      "metadata": {
        "id": "33"
      },
      "source": [
        "After checking the files in the original data source we concluded that those files were empty files and therefore it was not a problem in the process of the data loading. We therefore exclude those rows from the dataframe."
      ]
    },
    {
      "cell_type": "code",
      "execution_count": null,
      "id": "34",
      "metadata": {
        "id": "34"
      },
      "outputs": [],
      "source": [
        "len(df)"
      ]
    },
    {
      "cell_type": "code",
      "execution_count": null,
      "id": "35",
      "metadata": {
        "id": "35"
      },
      "outputs": [],
      "source": [
        "df = df[~df['html_content'].isna()].copy()\n",
        "df = df[~(df['html_content']==\"\")].copy()"
      ]
    },
    {
      "cell_type": "code",
      "execution_count": null,
      "id": "36",
      "metadata": {
        "id": "36"
      },
      "outputs": [],
      "source": [
        "len(df)"
      ]
    },
    {
      "cell_type": "code",
      "execution_count": null,
      "id": "37",
      "metadata": {
        "id": "37"
      },
      "outputs": [],
      "source": [
        "print(df.iloc[:,3].sort_values().values)"
      ]
    },
    {
      "cell_type": "code",
      "execution_count": null,
      "id": "38",
      "metadata": {
        "id": "38"
      },
      "outputs": [],
      "source": [
        "print(df.shape)  # Output: (rows, columns)\n",
        "print(df.columns)  # List all column names"
      ]
    },
    {
      "cell_type": "markdown",
      "id": "39",
      "metadata": {
        "id": "39"
      },
      "source": [
        "### Saving the data to storage"
      ]
    },
    {
      "cell_type": "code",
      "execution_count": null,
      "id": "40",
      "metadata": {
        "id": "40"
      },
      "outputs": [],
      "source": [
        "# Saving the Dataframe to the Google Drive storage\n",
        "df.to_csv(os.path.join(base_folder, 'Stage1/Working-dir/Stage1-01-raw-data.csv'), index=False)"
      ]
    },
    {
      "cell_type": "markdown",
      "id": "41",
      "metadata": {
        "id": "41"
      },
      "source": [
        "## 1.3 Parsing and cleaning the HTML files"
      ]
    },
    {
      "cell_type": "markdown",
      "id": "42",
      "metadata": {
        "id": "42"
      },
      "source": [
        "### Loading the data from storage"
      ]
    },
    {
      "cell_type": "code",
      "execution_count": null,
      "id": "43",
      "metadata": {
        "id": "43"
      },
      "outputs": [],
      "source": [
        "# Load csv from Google Drive Storage to Dataframe\n",
        "df = pd.read_csv(os.path.join(base_folder, 'Stage1/Working-dir/Stage1-01-raw-data.csv'))"
      ]
    },
    {
      "cell_type": "code",
      "execution_count": null,
      "id": "44",
      "metadata": {
        "id": "44"
      },
      "outputs": [],
      "source": [
        "pd.set_option('display.max_colwidth', 300)\n",
        "df[[\"html_content\"]].head(5)"
      ]
    },
    {
      "cell_type": "markdown",
      "id": "45",
      "metadata": {
        "id": "45"
      },
      "source": [
        "### BeautifulSoup"
      ]
    },
    {
      "cell_type": "markdown",
      "id": "46",
      "metadata": {
        "id": "46"
      },
      "source": [
        "#### Definition of cleaning function"
      ]
    },
    {
      "cell_type": "markdown",
      "id": "47",
      "metadata": {
        "id": "47"
      },
      "source": [
        "Below a function is defined to clean the stored strings of the html-files using `BeautifulSoup`. It extracts the title and main texts of the documents while removing various elements that are not of interest for the further analysis (for example style and navigation elements)."
      ]
    },
    {
      "cell_type": "code",
      "execution_count": null,
      "id": "48",
      "metadata": {
        "id": "48"
      },
      "outputs": [],
      "source": [
        "def clean_html(html_content):\n",
        "    from bs4 import BeautifulSoup, Comment\n",
        "    import re\n",
        "\n",
        "    soup = BeautifulSoup(html_content, 'html.parser')\n",
        "\n",
        "    # Title extraction\n",
        "    title = soup.title.get_text(strip=True) if soup.title else ''\n",
        "\n",
        "    # Remove unwanted elements\n",
        "    for el in soup(['script', 'style', 'header', 'footer', 'nav', 'iframe', 'meta', 'link']):\n",
        "        el.decompose()\n",
        "    for comment in soup.find_all(string=lambda text: isinstance(text, Comment)):\n",
        "        comment.extract()\n",
        "\n",
        "    # Replace <br> with newline\n",
        "    for br in soup.find_all(\"<br/>\"):\n",
        "        br.replace_with(\"\\n\")\n",
        "\n",
        "    # Get the content from body if exists\n",
        "    content = soup.body or soup\n",
        "\n",
        "    # get_text with separator\n",
        "    clean_text = content.get_text(separator='\\n\\n').strip()\n",
        "\n",
        "    # Post-process: Collapse excessive blank lines\n",
        "    clean_text = re.sub(r'\\n{3,}', '\\n\\n', clean_text)\n",
        "\n",
        "    return title, clean_text"
      ]
    },
    {
      "cell_type": "markdown",
      "id": "49",
      "metadata": {
        "id": "49"
      },
      "source": [
        "#### Application of cleaning function on subset"
      ]
    },
    {
      "cell_type": "markdown",
      "id": "50",
      "metadata": {
        "id": "50"
      },
      "source": [
        "**Add description (trying it out with a subset), the function uses `\\n\\n` for separation**"
      ]
    },
    {
      "cell_type": "code",
      "execution_count": null,
      "id": "51",
      "metadata": {
        "id": "51"
      },
      "outputs": [],
      "source": [
        "# create a subset of the dataframe for testing\n",
        "df_test = df.sample(n=5).copy()"
      ]
    },
    {
      "cell_type": "code",
      "execution_count": null,
      "id": "52",
      "metadata": {
        "id": "52"
      },
      "outputs": [],
      "source": [
        "df_test['title'], df_test['clean_content'] = zip(*df_test['html_content'].apply(clean_html))"
      ]
    },
    {
      "cell_type": "code",
      "execution_count": null,
      "id": "53",
      "metadata": {
        "id": "53"
      },
      "outputs": [],
      "source": [
        "pd.set_option('display.max_colwidth', 150)\n",
        "df_test[['html_content', 'title', 'clean_content']].head()"
      ]
    },
    {
      "cell_type": "markdown",
      "id": "54",
      "metadata": {
        "id": "54"
      },
      "source": [
        "Below we print out the HTML and the cleaned content for each document for comparison. For the cleaned content the double newlines are replaced by `\\n---PARAGRAPH BREAK---\\n` for better readability."
      ]
    },
    {
      "cell_type": "code",
      "execution_count": null,
      "id": "55",
      "metadata": {
        "id": "55"
      },
      "outputs": [],
      "source": [
        "from IPython.display import HTML\n",
        "for idx, row in df_test.iterrows():\n",
        "    print(\"-\" * 100)\n",
        "    print(f\"Row {idx}:\")\n",
        "    display(HTML(row['html_content']))\n",
        "    # Display the cleaned text\n",
        "    print(\"\\nCleaned Text:\\n\")\n",
        "    print(row['clean_content'].replace('\\n\\n', '\\n---PARAGRAPH BREAK---\\n'))\n",
        "    print(100 * \"-\")\n",
        "    print(\"\\n\")"
      ]
    },
    {
      "cell_type": "markdown",
      "id": "56",
      "metadata": {
        "id": "56"
      },
      "source": [
        "The double newlines between header and text are not optimal. Additionally the bullet point lists are not captured as such but. Improvements would be possible but we decided to try if Docling handles the conversion already better with the predefined settings.\n",
        "\n",
        "Another thing to note is parts of the texts don't give any useful information, such as the \"Subscribe to Newsletter\" and the \"Staffnet\" chapter or endings such as the following one: \"externe Seite 10.1002/smj.2221 call_made\""
      ]
    },
    {
      "cell_type": "markdown",
      "id": "57",
      "metadata": {
        "id": "57"
      },
      "source": [
        "#### Application of cleaning function on full Dataframe"
      ]
    },
    {
      "cell_type": "markdown",
      "id": "58",
      "metadata": {
        "id": "58"
      },
      "source": [
        "Below we apply the conversion to all documents."
      ]
    },
    {
      "cell_type": "code",
      "execution_count": null,
      "id": "59",
      "metadata": {
        "id": "59"
      },
      "outputs": [],
      "source": [
        "df['bs_html_title'], df['bs_html_content'] = zip(*df['html_content'].apply(clean_html))"
      ]
    },
    {
      "cell_type": "code",
      "execution_count": null,
      "id": "60",
      "metadata": {
        "id": "60"
      },
      "outputs": [],
      "source": [
        "pd.set_option('display.max_colwidth', 150)\n",
        "df[['html_content', 'bs_html_title', 'bs_html_content']].head(5)"
      ]
    },
    {
      "cell_type": "markdown",
      "id": "61",
      "metadata": {
        "id": "61"
      },
      "source": [
        "#### Saving the data to storage"
      ]
    },
    {
      "cell_type": "code",
      "execution_count": null,
      "id": "62",
      "metadata": {
        "id": "62"
      },
      "outputs": [],
      "source": [
        "# Saving the Dataframe to the Google Drive storage\n",
        "df.to_csv(os.path.join(base_folder, 'Stage1/Working-dir/Stage1-02-bs.csv'), index=False)"
      ]
    },
    {
      "cell_type": "markdown",
      "id": "63",
      "metadata": {
        "id": "63"
      },
      "source": [
        "### Docling"
      ]
    },
    {
      "cell_type": "markdown",
      "id": "64",
      "metadata": {
        "id": "64"
      },
      "source": [
        "#### Definition of the Converter"
      ]
    },
    {
      "cell_type": "code",
      "execution_count": null,
      "id": "65",
      "metadata": {
        "id": "65"
      },
      "outputs": [],
      "source": [
        "# Create AcceleratorOptions for CUDA\n",
        "cuda_accelerator_options = AcceleratorOptions(device=AcceleratorDevice.CUDA)\n",
        "InputFormat.HTML: HTMLFormatOption(pipeline_options=PipelineOptions(accelerator_options=cuda_accelerator_options))"
      ]
    },
    {
      "cell_type": "code",
      "execution_count": null,
      "id": "66",
      "metadata": {
        "id": "66"
      },
      "outputs": [],
      "source": [
        "# Initialize the Docling converter\n",
        "converter = DocumentConverter()"
      ]
    },
    {
      "cell_type": "code",
      "execution_count": null,
      "id": "67",
      "metadata": {
        "id": "67"
      },
      "outputs": [],
      "source": [
        "# Define function for conversion\n",
        "def html_file_to_markdown(file_path):\n",
        "    \"\"\"Convert an HTML file to markdown using Docling\"\"\"\n",
        "    try:\n",
        "        # Convert the HTML file directly by path\n",
        "        result = converter.convert(file_path)\n",
        "        return result.document.export_to_markdown()\n",
        "    except Exception as e:\n",
        "        return f\"Error converting file {file_path}: {str(e)}\""
      ]
    },
    {
      "cell_type": "markdown",
      "id": "68",
      "metadata": {
        "id": "68"
      },
      "source": [
        "#### Application of conversion on subset"
      ]
    },
    {
      "cell_type": "code",
      "execution_count": null,
      "id": "69",
      "metadata": {
        "id": "69"
      },
      "outputs": [],
      "source": [
        "# Apply the conversion function using the 'full_path' column\n",
        "df_test['markdown_content'] = df_test['full_path'].apply(html_file_to_markdown)\n",
        "\n",
        "# View the result\n",
        "df_test[['html_content', 'title', 'markdown_content']].head()"
      ]
    },
    {
      "cell_type": "code",
      "execution_count": null,
      "id": "70",
      "metadata": {
        "id": "70"
      },
      "outputs": [],
      "source": [
        "from IPython.display import HTML\n",
        "for idx, row in df_test.iterrows():\n",
        "    print(\"-\" * 100)\n",
        "    print(f\"Row {idx}:\")\n",
        "    display(HTML(row['html_content']))\n",
        "    # Display the cleaned text\n",
        "    print(\"\\nCleaned Text (Markdown):\\n\")\n",
        "    print(row['markdown_content'])\n",
        "    print(100 * \"-\")\n",
        "    print(\"\\n\")"
      ]
    },
    {
      "cell_type": "markdown",
      "id": "71",
      "metadata": {
        "id": "71"
      },
      "source": [
        "**There seems to be a problem with the conversion of Docling. The part of the HTML before the first heading is not included in the Markdown.**"
      ]
    },
    {
      "cell_type": "markdown",
      "id": "72",
      "metadata": {
        "id": "72"
      },
      "source": [
        "#### Application of Conversion on full Dataframe"
      ]
    },
    {
      "cell_type": "markdown",
      "id": "73",
      "metadata": {
        "id": "73"
      },
      "source": [
        "Below we apply the conversion to all documents."
      ]
    },
    {
      "cell_type": "code",
      "execution_count": null,
      "id": "74",
      "metadata": {
        "id": "74"
      },
      "outputs": [],
      "source": [
        "df['markdown_content_docling'] = df['full_path'].progress_apply(html_file_to_markdown)"
      ]
    },
    {
      "cell_type": "code",
      "execution_count": null,
      "id": "75",
      "metadata": {
        "id": "75"
      },
      "outputs": [],
      "source": [
        "pd.set_option('display.max_colwidth', 150)\n",
        "df[['html_content', 'markdown_content_docling']].head()"
      ]
    },
    {
      "cell_type": "markdown",
      "id": "76",
      "metadata": {
        "id": "76"
      },
      "source": [
        "#### Saving the data to storage"
      ]
    },
    {
      "cell_type": "code",
      "execution_count": null,
      "id": "77",
      "metadata": {
        "id": "77"
      },
      "outputs": [],
      "source": [
        "# Saving the Dataframe to the Google Drive storage\n",
        "df.to_csv(os.path.join(base_folder, 'Stage1/Working-dir/Stage1-03-docling.csv'), index=False)"
      ]
    },
    {
      "cell_type": "code",
      "execution_count": null,
      "id": "78",
      "metadata": {
        "id": "78"
      },
      "outputs": [],
      "source": [
        "# For loading\n",
        "df = pd.read_csv(os.path.join(base_folder, 'Stage1/Working-dir/Stage1-03-docling.csv'))"
      ]
    },
    {
      "cell_type": "markdown",
      "id": "79",
      "metadata": {
        "id": "79"
      },
      "source": [
        "### Hybrid Approach"
      ]
    },
    {
      "cell_type": "markdown",
      "id": "80",
      "metadata": {
        "id": "80"
      },
      "source": [
        "#### Definition of the Function for Conversion"
      ]
    },
    {
      "cell_type": "code",
      "execution_count": null,
      "id": "81",
      "metadata": {
        "id": "81"
      },
      "outputs": [],
      "source": [
        "def html_file_to_markdown_bs_docling(file_path):\n",
        "    \"\"\"Convert an HTML file to markdown, handling content before first header separately\"\"\"\n",
        "    try:\n",
        "        # Read the original HTML file\n",
        "        with open(file_path, 'r', encoding='utf-8') as f:\n",
        "            html_content = f.read()\n",
        "\n",
        "        # Parse HTML with BeautifulSoup\n",
        "        soup = BeautifulSoup(html_content, 'html.parser')\n",
        "\n",
        "        # Find the first header\n",
        "        first_header = soup.find(['h1', 'h2', 'h3', 'h4', 'h5', 'h6'])\n",
        "\n",
        "        # If no header is found, just use Docling for the whole document\n",
        "        if not first_header:\n",
        "            result = converter.convert(file_path)\n",
        "            return result.document.export_to_markdown()\n",
        "\n",
        "        # Get the header text to use as a marker\n",
        "        header_text = first_header.get_text().strip()\n",
        "        header_level = int(first_header.name[1])\n",
        "        header_markdown = '#' * header_level + ' ' + header_text\n",
        "\n",
        "        # Process the entire document with Docling\n",
        "        result = converter.convert(file_path)\n",
        "        full_markdown = result.document.export_to_markdown()\n",
        "\n",
        "        # Find where our header appears in the markdown\n",
        "        header_index = full_markdown.find(header_markdown)\n",
        "\n",
        "        # If the header is not found in the markdown, try finding just the header text\n",
        "        if header_index == -1:\n",
        "            header_index = full_markdown.find(header_text)\n",
        "            if header_index == -1:\n",
        "                # If we still can't find it, return the full markdown\n",
        "                return full_markdown\n",
        "\n",
        "        # Extract introduction paragraphs from HTML\n",
        "        intro_paragraphs = []\n",
        "        for paragraph in soup.find_all('p'):\n",
        "            # Only consider paragraphs that appear before the first header\n",
        "            if (\n",
        "                hasattr(paragraph, 'sourceline') and\n",
        "                hasattr(first_header, 'sourceline') and\n",
        "                paragraph.sourceline < first_header.sourceline\n",
        "            ):\n",
        "                text = paragraph.get_text(strip=True)\n",
        "                if text:\n",
        "                    intro_paragraphs.append(text)\n",
        "\n",
        "        # If there are intro paragraphs, combine them\n",
        "        if intro_paragraphs:\n",
        "            intro_markdown = \"\\n\\n\".join(intro_paragraphs)\n",
        "\n",
        "            # Check if the intro is already in the markdown before the header\n",
        "            markdown_before_header = full_markdown[:header_index].strip()\n",
        "\n",
        "            # If intro is already included (or partially included), use the full markdown\n",
        "            if intro_markdown in markdown_before_header or any(p in markdown_before_header for p in intro_paragraphs):\n",
        "                return full_markdown\n",
        "\n",
        "            # Otherwise, add the intro before the header section\n",
        "            return intro_markdown + \"\\n\\n\" + full_markdown[header_index:]\n",
        "        else:\n",
        "            # No intro paragraphs, return the full markdown\n",
        "            return full_markdown\n",
        "\n",
        "    except Exception as e:\n",
        "        return f\"Error converting file {file_path}: {str(e)}\""
      ]
    },
    {
      "cell_type": "markdown",
      "id": "82",
      "metadata": {
        "id": "82"
      },
      "source": [
        "#### Application of conversion on subset"
      ]
    },
    {
      "cell_type": "code",
      "execution_count": null,
      "id": "83",
      "metadata": {
        "id": "83"
      },
      "outputs": [],
      "source": [
        "# Apply the conversion function using the 'full_path' column\n",
        "df_test['markdown_content_hybrid'] = df_test['full_path'].apply(html_file_to_markdown_bs_docling)\n",
        "\n",
        "# View the result\n",
        "df_test[['html_content', 'full_path', 'markdown_content_hybrid']].head()"
      ]
    },
    {
      "cell_type": "code",
      "execution_count": null,
      "id": "84",
      "metadata": {
        "id": "84"
      },
      "outputs": [],
      "source": [
        "from IPython.display import HTML\n",
        "for idx, row in df_test.iterrows():\n",
        "    print(\"-\" * 100)\n",
        "    print(f\"Row {idx}:\")\n",
        "    display(HTML(row['html_content']))\n",
        "    # Display the cleaned text\n",
        "    print(\"\\nCleaned Text (Markdown Hybrid):\\n\")\n",
        "    print(row['markdown_content_hybrid'])\n",
        "    print(100 * \"-\")\n",
        "    print(\"\\n\")"
      ]
    },
    {
      "cell_type": "markdown",
      "id": "85",
      "metadata": {
        "id": "85"
      },
      "source": [
        "#### Application of Conversion on full Dataframe"
      ]
    },
    {
      "cell_type": "markdown",
      "id": "86",
      "metadata": {
        "id": "86"
      },
      "source": [
        "Below we apply the conversion to all documents."
      ]
    },
    {
      "cell_type": "code",
      "execution_count": null,
      "id": "87",
      "metadata": {
        "id": "87"
      },
      "outputs": [],
      "source": [
        "df['markdown_content_hybrid'] = df['full_path'].progress_apply(html_file_to_markdown_bs_docling)"
      ]
    },
    {
      "cell_type": "code",
      "execution_count": null,
      "id": "88",
      "metadata": {
        "id": "88"
      },
      "outputs": [],
      "source": [
        "pd.set_option('display.max_colwidth', 150)\n",
        "df[['html_content', 'markdown_content_hybrid']].head()"
      ]
    },
    {
      "cell_type": "markdown",
      "id": "89",
      "metadata": {
        "id": "89"
      },
      "source": [
        "#### Saving the data to storage"
      ]
    },
    {
      "cell_type": "code",
      "execution_count": null,
      "id": "90",
      "metadata": {
        "id": "90"
      },
      "outputs": [],
      "source": [
        "# Saving the Dataframe to the Google Drive storage\n",
        "df.to_csv(os.path.join(base_folder, 'Stage1/Working-dir/Stage1-04-hybrid.csv'), index=False)"
      ]
    },
    {
      "cell_type": "markdown",
      "id": "91",
      "metadata": {
        "id": "91"
      },
      "source": [
        "# 2. Multilingual Text Preprocessing and Cleaning (5 Points)"
      ]
    },
    {
      "cell_type": "code",
      "execution_count": null,
      "id": "92",
      "metadata": {
        "id": "92"
      },
      "outputs": [],
      "source": [
        "# For loading\n",
        "df = pd.read_csv(os.path.join(base_folder, 'Stage1/Working-dir/Stage1-04-hybrid.csv'))"
      ]
    },
    {
      "cell_type": "markdown",
      "id": "93",
      "metadata": {
        "id": "93"
      },
      "source": [
        "## 2.1 Preprocessing\n",
        "\n",
        "Perform necessary text preprocessing (e.g., removing extra spaces and redundant line breaks, normalizing\n",
        "Unicode characters, standardizing date formats from different sources), and handle German-specific text\n",
        "processing (e.g., compound words, umlaut normalization if needed)"
      ]
    },
    {
      "cell_type": "code",
      "execution_count": null,
      "id": "94",
      "metadata": {
        "id": "94"
      },
      "outputs": [],
      "source": [
        "df[\"markdown_content_hybrid\"].head()"
      ]
    },
    {
      "cell_type": "markdown",
      "id": "95",
      "metadata": {
        "id": "95"
      },
      "source": [
        "## 2.2 Metadata\n",
        "\n",
        "Store the cleaned text and its metadata in a structured format suitable for retrieval (e.g., JSON, CSV, or a\n",
        "database) with fields such as **language, title, date, source**"
      ]
    },
    {
      "cell_type": "markdown",
      "id": "96",
      "metadata": {
        "id": "96"
      },
      "source": [
        "The following step enriches the dataframe by adding the date (month and year) extracted from the file path, as they are organized by date."
      ]
    },
    {
      "cell_type": "code",
      "execution_count": null,
      "id": "97",
      "metadata": {
        "id": "97"
      },
      "outputs": [],
      "source": [
        "# Function to extract year and month from the folder path\n",
        "def extract_year_month(path):\n",
        "\n",
        "    if isinstance(path, str):  # Check if path is a string.\n",
        "        parts = path.split('/')\n",
        "        if len(parts) >= 2: # Check if the path has at least two parts\n",
        "            month = parts[-1]\n",
        "            year = parts[-2]\n",
        "            return year, month\n",
        "        else:\n",
        "             return None, None\n",
        "    else:\n",
        "        return None, None #Handles the case where the input is not a string\n",
        "\n",
        "# Apply the function to create new columns 'year' and 'month'\n",
        "df[['year', 'month']] = df['folder_path'].apply(lambda x: pd.Series(extract_year_month(x)))\n"
      ]
    },
    {
      "cell_type": "markdown",
      "id": "98",
      "metadata": {
        "id": "98"
      },
      "source": [
        "Extracts the type of document title and the language from the folder path structure."
      ]
    },
    {
      "cell_type": "code",
      "execution_count": null,
      "id": "99",
      "metadata": {
        "id": "99"
      },
      "outputs": [],
      "source": [
        "def extract_language_type(path):\n",
        "    if isinstance(path, str):\n",
        "        parts = path.split('/')\n",
        "        if len(parts) >= 4:  # Check for the third element from the end\n",
        "            third_from_end = parts[-3]\n",
        "            lang_type_parts = third_from_end.split('_')\n",
        "            language = lang_type_parts[0] if lang_type_parts[0] in ('de', 'en') else None\n",
        "            Type = 'internal' if len(lang_type_parts) > 1 and lang_type_parts[1] == 'internal' else \\\n",
        "                   'news events' if len(lang_type_parts) > 1 and lang_type_parts[1] == 'news' else None\n",
        "            return language, Type\n",
        "        else:\n",
        "            return None, None\n",
        "    else:\n",
        "        return None, None\n",
        "\n",
        "# Apply the function to create new columns 'language' and 'Type'\n",
        "df[['language', 'type']] = df['folder_path'].apply(lambda x: pd.Series(extract_language_type(x)))"
      ]
    },
    {
      "cell_type": "markdown",
      "id": "100",
      "metadata": {
        "id": "100"
      },
      "source": [
        "Extracts HTML file name and adds it to the dataframe. This could be useful as a backup title, as many files do not contain a `<meta>` tag with the title or a `<h1>` tag for the title."
      ]
    },
    {
      "cell_type": "code",
      "execution_count": null,
      "id": "101",
      "metadata": {
        "id": "101"
      },
      "outputs": [],
      "source": [
        "# Function to extract and format the title from the file_name\n",
        "def extract_and_format_title(file_name):\n",
        "    \"\"\"\n",
        "    Extracts the title from the filename, removes the '.html' extension,\n",
        "    replaces hyphens with spaces, and capitalizes only the first letter of the first word.\n",
        "\n",
        "    Args:\n",
        "        file_name (str): The filename.\n",
        "\n",
        "    Returns:\n",
        "        str: The formatted title, or None if the input is not a string.\n",
        "    \"\"\"\n",
        "    if isinstance(file_name, str):\n",
        "        title = file_name.replace(\".html\", \"\").replace(\"-\", \" \")\n",
        "        words = title.split()\n",
        "        if words:\n",
        "            words[0] = words[0].capitalize()\n",
        "            title = \" \".join(words)\n",
        "        return title\n",
        "    else:\n",
        "        return None\n",
        "\n",
        "# Apply the function to create the 'html_title' column\n",
        "df['html_title'] = df['file_name'].apply(extract_and_format_title)"
      ]
    },
    {
      "cell_type": "code",
      "execution_count": null,
      "id": "102",
      "metadata": {
        "id": "102"
      },
      "outputs": [],
      "source": [
        "# Print the updated DataFrame\n",
        "print(df.head())"
      ]
    },
    {
      "cell_type": "code",
      "execution_count": null,
      "id": "103",
      "metadata": {
        "id": "103"
      },
      "outputs": [],
      "source": [
        "print(df.columns)\n",
        "# drop 'bs_html_content'and 'markdown_content_docling' columns\n",
        "df1 = df.drop(columns=['bs_html_content', 'markdown_content_docling'])\n",
        "print(df1.columns)"
      ]
    },
    {
      "cell_type": "code",
      "execution_count": null,
      "id": "104",
      "metadata": {
        "id": "104"
      },
      "outputs": [],
      "source": [
        "# save file as csv\n",
        "df.to_csv(os.path.join(base_folder, 'Stage1/Working-dir/Stage1-05-metadata.csv'), index=False)"
      ]
    },
    {
      "cell_type": "markdown",
      "id": "105",
      "metadata": {
        "id": "105"
      },
      "source": [
        "## 2.3 Metadata Extraction from Content (NLP)\n",
        "\n",
        "In the following steps, information about the text will be extracted and added as metadata to the dataframe, fields such as **main content, named entities, topics, keywords, summary**"
      ]
    },
    {
      "cell_type": "code",
      "execution_count": null,
      "id": "106",
      "metadata": {
        "id": "106"
      },
      "outputs": [],
      "source": [
        "# load step 5 dataset\n",
        "pd.read_csv(os.path.join(base_folder, 'Stage1/Working-dir/Stage1-05-metadata.csv'))"
      ]
    },
    {
      "cell_type": "markdown",
      "id": "107",
      "metadata": {
        "id": "107"
      },
      "source": [
        "Performs necessary text preprocessing (e.g., removing extra spaces and redundant line breaks, normalizing\n",
        "Unicode characters, and handle German-specific text\n",
        "processing 'ß'.\n",
        "\n",
        "We decided that there is no need to process and unify date structure as the date is already stracted from the path of the files. We might lose some information regarding the day if included in some texts, but with a span of over a decade, that level of granularity wont be necessary.\n",
        "\n",
        "Regarding the German specific processing such as umlaut or compound words:\n",
        "- After normalizing unicode characters, we can see that umlauts and other characters are not an issue and are displayed proyerly, so there is no need for further processing.\n",
        "- Compound words are an essential part of the German language, and processing it could affect negatively the meaning and understandability of the text explained, as explained by our german speaking colleague Pascal, hence we decided against of processing them."
      ]
    },
    {
      "cell_type": "code",
      "execution_count": null,
      "id": "108",
      "metadata": {
        "id": "108"
      },
      "outputs": [],
      "source": [
        "\n",
        "\n",
        "#print an example of the text in the markdown_content_hybrid column\n",
        "print(df['markdown_content_hybrid'].iloc[0])\n",
        "\n",
        "def preprocess_text(text):\n",
        "\t# Remove extra spaces and redundant line breaks\n",
        "\ttext = re.sub(r'\\s+', ' ', text)\n",
        "\ttext = text.strip()\n",
        "\n",
        "\t# Normalize Unicode characters (if needed)\n",
        "\ttext = text.encode('utf-8').decode('utf-8')\n",
        "\n",
        "\t# Handle German-specific text processing (e.g., compound words, umlaut normalization)\n",
        "\ttext = text.replace('ß', 'ss')\n",
        "\n",
        "\treturn text\n",
        "\n",
        "# Apply the preprocessing function to the 'markdown_content_hybrid' column\n",
        "df['content'] = df['markdown_content_hybrid'].progress_apply(preprocess_text)\n",
        "\n",
        "print(df['content'].iloc[0])"
      ]
    },
    {
      "cell_type": "markdown",
      "id": "109",
      "metadata": {
        "id": "109"
      },
      "source": [
        "The next step processes the (`content` column) and its language (`language` column)to perform the following tasks:\n",
        "\n",
        "1. **Loads NLP Models**: Initializes spaCy models for English and German text processing.\n",
        "2. **Extracts Features**: Defines a function `extract_all` to extract:\n",
        "   - Named entities using spaCy.\n",
        "   - Keywords using KeyBERT.\n",
        "   - Topics using Gensim's LDA.\n",
        "   - A summary (heuristic: two longest sentences).\n",
        "3. **Applies the Function**: Processes each row of the DataFrame using `progress_apply` and adds the extracted features as new columns (`named_entities`, `topics`, `keywords`, `summary`).\n",
        "4. **Displays Results**: Prints the first few rows of the updated DataFrame."
      ]
    },
    {
      "cell_type": "code",
      "execution_count": null,
      "id": "110",
      "metadata": {
        "id": "110"
      },
      "outputs": [],
      "source": [
        "# --- Install required packages if needed ---\n",
        "# pip install spacy keybert gensim tqdm\n",
        "# python -m spacy download en_core_web_sm\n",
        "# python -m spacy download de_core_news_sm\n",
        "\n",
        "import pandas as pd\n",
        "import spacy\n",
        "from keybert import KeyBERT\n",
        "from gensim import corpora, models\n",
        "from tqdm import tqdm\n",
        "\n",
        "# Load spaCy models\n",
        "nlp_en = spacy.load(\"en_core_web_sm\")\n",
        "nlp_de = spacy.load(\"de_core_news_sm\")\n",
        "\n",
        "# Init KeyBERT\n",
        "kw_model = KeyBERT()\n",
        "\n",
        "# Enable progress_apply\n",
        "tqdm.pandas()\n",
        "\n",
        "# --- Define the extraction function ---\n",
        "def extract_all(text, lang):\n",
        "    # Select language-specific spaCy model\n",
        "    if lang == \"de\":\n",
        "        nlp = nlp_de\n",
        "    else:\n",
        "        nlp = nlp_en\n",
        "\n",
        "    doc = nlp(text)\n",
        "\n",
        "    # Named Entities\n",
        "    entities = list(set((ent.text, ent.label_) for ent in doc.ents))\n",
        "\n",
        "    # Keywords\n",
        "    keywords = kw_model.extract_keywords(text, top_n=5)\n",
        "    keywords = [kw[0] for kw in keywords]\n",
        "\n",
        "    # Topics using LDA (via Gensim)\n",
        "    tokens = [token.text.lower() for token in doc if token.is_alpha and not token.is_stop]\n",
        "    dictionary = corpora.Dictionary([tokens])\n",
        "    corpus = [dictionary.doc2bow(tokens)]\n",
        "    try:\n",
        "        lda_model = models.LdaModel(corpus, num_topics=1, id2word=dictionary, passes=4)\n",
        "        topics = [word for word, _ in lda_model.show_topic(0)]\n",
        "    except:\n",
        "        topics = []\n",
        "\n",
        "    # Summary (heuristic: longest 2 sentences)\n",
        "    sentences = [sent.text.strip() for sent in doc.sents if len(sent.text.strip()) > 20]\n",
        "    sentences = sorted(sentences, key=lambda s: len(s), reverse=True)\n",
        "    summary = \" \".join(sentences[:2]) if sentences else \"\"\n",
        "\n",
        "    return pd.Series({\n",
        "        \"named_entities\": entities,\n",
        "        \"topics\": topics,\n",
        "        \"keywords\": keywords,\n",
        "        \"summary\": summary\n",
        "    })\n",
        "\n",
        "# --- Apply it to your DataFrame ---\n",
        "# Make sure your df has 'content' and 'language' columns\n",
        "df = df.dropna(subset=[\"content\", \"language\"])\n",
        "df[[\"named_entities\", \"topics\", \"keywords\", \"summary\"]] = df.progress_apply(\n",
        "    lambda row: extract_all(row[\"content\"], row[\"language\"]),\n",
        "    axis=1\n",
        ")\n",
        "\n",
        "# Optional: display result\n",
        "print(df[[\"content\", \"language\", \"named_entities\", \"topics\", \"keywords\", \"summary\"]].head())\n"
      ]
    },
    {
      "cell_type": "code",
      "execution_count": null,
      "id": "111",
      "metadata": {
        "id": "111"
      },
      "outputs": [],
      "source": [
        "# save the updated dataframe to a new CSV file\n",
        "df.to_csv(os.path.join(base_folder, 'Stage1/Working-dir/Stage1-06-NLP-processed.csv'), index=False)"
      ]
    },
    {
      "cell_type": "code",
      "execution_count": null,
      "id": "112",
      "metadata": {
        "id": "112"
      },
      "outputs": [],
      "source": [
        "# load dataset\n",
        "df = pd.read_csv(os.path.join(base_folder, 'Stage1/Working-dir/Stage1-06-NLP-processed.csv'))"
      ]
    },
    {
      "cell_type": "markdown",
      "id": "113",
      "metadata": {
        "id": "113"
      },
      "source": [
        "## 2.4 Evaluation of Summary\n",
        "\n",
        "This code uses `sumy` library to extract the summary from the `content` using Latent Semantic Analysis (LSA). Tt processes the text content, applies the `LsaSummarizer` to extract key sentences based on topic relevance, and removes stop words to enhance readability. The summarization function is then applied to each row in the DataFrame, creating a new column with summarized text"
      ]
    },
    {
      "cell_type": "code",
      "execution_count": null,
      "id": "114",
      "metadata": {
        "id": "114"
      },
      "outputs": [],
      "source": [
        "import pandas as pd\n",
        "from sumy.parsers.plaintext import PlaintextParser  # Corrected import\n",
        "from sumy.nlp.tokenizers import Tokenizer\n",
        "from sumy.summarizers.lsa import LsaSummarizer\n",
        "from sumy.utils import get_stop_words\n",
        "\n",
        "import nltk\n",
        "nltk.download('punkt_tab')\n",
        "\n",
        "# Function to summarize text based on language\n",
        "i=0\n",
        "def summarize_text(row):\n",
        "    global i\n",
        "    language = row[\"language\"]\n",
        "    parser = PlaintextParser.from_string(row[\"content\"], Tokenizer(language))  # Corrected usage\n",
        "    summarizer = LsaSummarizer()\n",
        "    summarizer.stop_words = get_stop_words(language)\n",
        "\n",
        "    summary_sentences = summarizer(parser.document, 2)  # Get top 2 sentences\n",
        "    i=i+1\n",
        "    print(i)\n",
        "    return \" \".join([str(sentence) for sentence in summary_sentences])\n",
        "\n",
        "# Apply summarization\n",
        "df[\"summary_summy\"] = df.apply(summarize_text, axis=1)\n",
        "\n",
        "print(df)\n"
      ]
    },
    {
      "cell_type": "code",
      "execution_count": null,
      "id": "115",
      "metadata": {
        "id": "115"
      },
      "outputs": [],
      "source": [
        "df.to_csv(os.path.join(base_folder, 'Stage1/Working-dir/Stage1-07-summaryv2.csv'), index=False)"
      ]
    },
    {
      "cell_type": "code",
      "execution_count": null,
      "id": "116",
      "metadata": {
        "id": "116"
      },
      "outputs": [],
      "source": [
        "# load dataset\n",
        "df = pd.read_csv(os.path.join(base_folder, 'Stage1/Working-dir/Stage1-07-summaryv2.csv'))\n",
        "print(df.columns)"
      ]
    },
    {
      "cell_type": "code",
      "execution_count": null,
      "id": "117",
      "metadata": {
        "id": "117"
      },
      "outputs": [],
      "source": [
        "!pip install bert_score"
      ]
    },
    {
      "cell_type": "code",
      "execution_count": null,
      "id": "118",
      "metadata": {
        "id": "118"
      },
      "outputs": [],
      "source": [
        "import pandas as pd\n",
        "from bert_score import score\n",
        "\n",
        "# Make sure content and summaries are strings\n",
        "df = df.dropna(subset=['content', 'summary', 'summary_summy'])\n",
        "contents = df['content'].astype(str).tolist()\n",
        "summaries_1 = df['summary'].astype(str).tolist()\n",
        "summaries_2 = df['summary_summy'].astype(str).tolist()\n",
        "\n",
        "# Compute BERTScore (Precision, Recall, F1) for both sets of summaries\n",
        "P1, R1, F1 = score(summaries_1, contents, lang=\"en\", verbose=True)\n",
        "P2, R2, F2 = score(summaries_2, contents, lang=\"en\", verbose=True)\n",
        "\n",
        "# Add results to DataFrame\n",
        "df['bertscore_summary_f1'] = F1.tolist()\n",
        "df['bertscore_summy_f1'] = F2.tolist()\n",
        "\n",
        "# Compare average F1 scores\n",
        "mean_f1_summary = F1.mean().item()\n",
        "mean_f1_summy = F2.mean().item()\n",
        "\n",
        "print(f\"Mean BERTScore F1 - summary:      {mean_f1_summary:.4f}\")\n",
        "print(f\"Mean BERTScore F1 - summary_summy: {mean_f1_summy:.4f}\")"
      ]
    },
    {
      "cell_type": "markdown",
      "id": "119",
      "metadata": {
        "id": "119"
      },
      "source": [
        "The result of comparing both summaries ends in a tie:\n",
        "- Mean BERTScore F1 - summary:      0.8648\n",
        "- Mean BERTScore F1 - summary_summy: 0.8640"
      ]
    },
    {
      "cell_type": "code",
      "execution_count": null,
      "id": "120",
      "metadata": {
        "id": "120"
      },
      "outputs": [],
      "source": [
        "# filter the dataframe by 'language' = 'en' and take 10 random samples with a fixed seed\n",
        "sample = df[df['language'] == 'en'].sample(10, random_state=42)[['summary', 'summary_summy']]\n",
        "\n",
        "# print the samples in pairs\n",
        "for i, row in sample.iterrows():\n",
        "\tprint(f\"Summary: {row['summary']}\")\n",
        "\tprint(f\"Summy: {row['summary_summy']}\")\n",
        "\tprint()"
      ]
    },
    {
      "cell_type": "markdown",
      "id": "121",
      "metadata": {
        "id": "121"
      },
      "source": [
        "The heuristic-based approach selects the longest sentences, assuming they are the most relevant, but often fails to capture the true essence of the content, producing long chunks without contextual analysis.\n",
        "\n",
        "In contrast, summy uses advanced algorithms to extract meaningful sentences, creating concise and focused summaries based on the data. When summaries differ, summy consistently provides more context-aware and coherent outputs by inferring importance rather than relying on sentence length.\n",
        "\n",
        "While both methods may achieve similar BERT scores, summy demonstrates a deeper understanding of the content, producing summaries that are both accurate and contextually meaningful.\n",
        "\n",
        "Hence we will keep only the sumy summary and delete the helper columns on the dataframe"
      ]
    },
    {
      "cell_type": "code",
      "execution_count": null,
      "id": "122",
      "metadata": {
        "id": "122"
      },
      "outputs": [],
      "source": [
        "# Load again the dataset to avoid deleting several columns created in the previous steps\n",
        "df = pd.read_csv(os.path.join(base_folder, 'Stage1/Working-dir/Stage1-07-summaryv2.csv'))\n",
        "\n",
        "# Delete 'summary' column\n",
        "df.drop(columns=['summary'], inplace=True)\n",
        "\n",
        "# rename column 'summary_summy' to summary\n",
        "df.rename(columns={'summary_summy': 'summary'}, inplace=True)\n",
        "print(df.columns)\n",
        "\n"
      ]
    },
    {
      "cell_type": "code",
      "execution_count": null,
      "id": "123",
      "metadata": {
        "id": "123"
      },
      "outputs": [],
      "source": [
        "df.to_csv(os.path.join(base_folder, 'Stage1/Working-dir/Stage1-08-final.csv'), index=False)"
      ]
    }
  ],
  "metadata": {
    "accelerator": "GPU",
    "colab": {
      "gpuType": "L4",
      "provenance": [],
      "toc_visible": true,
      "include_colab_link": true
    },
    "kernelspec": {
      "display_name": "Python 3",
      "name": "python3"
    },
    "language_info": {
      "name": "python"
    }
  },
  "nbformat": 4,
  "nbformat_minor": 5
}