{
 "cells": [
  {
   "cell_type": "markdown",
   "id": "def7af22",
   "metadata": {},
   "source": [
    "# GenAI\n",
    "## Authors\n",
    "## Data Preparation"
   ]
  }
 ],
 "metadata": {
  "language_info": {
   "name": "python"
  }
 },
 "nbformat": 4,
 "nbformat_minor": 5
}
